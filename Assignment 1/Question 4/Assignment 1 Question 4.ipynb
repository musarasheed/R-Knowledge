{
 "cells": [
  {
   "cell_type": "markdown",
   "id": "c8b28de8",
   "metadata": {},
   "source": [
    "# Question 4: The National Test\n",
    "## By Musa Rasheed (25618232)\n",
    "\n",
    "**Entry to a certificate program is determined by a national test comprised of two subjects A and B. The scores on subject A are normally distributed with a mean of 80 and a standard deviation of 3, and on subject B are normally distributed with a mean of 70 and a standard deviation of 4. The scores on subject A and B are assumed to be independent.**\n",
    "\n",
    "## A) What proportion of students score between 145 and 160 points on the test? (round to the nearest 2 decimal places) *(3 Marks)*\n",
    "$$\n",
    "A: \\mu_A = 80, \\sigma_A = 3\\\\\n",
    "B: \\mu_B = 70, \\sigma_B = 4\n",
    "$$\n",
    "### Answer\n",
    "From the question, I gather that the test is out of 200 points, where 100 possible points from part A, and 100 possible points from part B. These tests are: \n",
    "\n",
    "* Independent of eachother\n",
    "* Normally Distributed\n",
    "* Added together for their final score\n",
    "\n",
    "We will create a new normal distribution with a new random variable which I'll call T for test. For this new distribution, we need only know the mean and standard deviation, which comes as a result of part A and B. \n",
    "\n",
    "#### The mean\n",
    "The means can be combined via simple addition. \n",
    "\n",
    "$$\n",
    "\\mu_T = \\mu_A + \\mu_B\\\\\n",
    "\\mu_T = 80 + 70 = 150\n",
    "$$\n",
    "\n",
    "#### The Standard deviation\n",
    "Because these 2 tests (which are also random variables) are independent, we can take the sum of the **variance** (not the standard deviation) of these 2 random variables A and B, and use it to get to the standard deviation: \n",
    "\n",
    "$$\n",
    "\\sigma^2_T = \\sigma^2_A + \\sigma^2_B \\\\\n",
    "\\sigma^2_T = (3)^2 + (4)^2 = 9+16\\\\\n",
    "\\sigma^2_T = 25\\\\\n",
    "\\sigma_T = 5\n",
    "$$"
   ]
  },
  {
   "cell_type": "markdown",
   "id": "0981b4ec",
   "metadata": {},
   "source": [
    "Now that we have this information, we can use the Z-Score to see what proportion of students are going to score between the 2 values $145$ and $160$:"
   ]
  },
  {
   "cell_type": "code",
   "execution_count": 1,
   "id": "a38a384c",
   "metadata": {},
   "outputs": [
    {
     "name": "stdout",
     "output_type": "stream",
     "text": [
      "81.9 % of students scored between 145 and 160 on the national test"
     ]
    }
   ],
   "source": [
    "mean = 150\n",
    "stdd = 5\n",
    "\n",
    "z1 = (145-mean)/(stdd)\n",
    "z2 = (160-mean)/(stdd)\n",
    "\n",
    "prop = round(pnorm(z2)-pnorm(z1),3)*100\n",
    "\n",
    "cat(prop,\"% of students scored between 145 and 160 on the national test\")"
   ]
  },
  {
   "cell_type": "markdown",
   "id": "5bfc7c04",
   "metadata": {},
   "source": [
    "## B) If a student needs to score more than 155 points to be admitted to the program. For a random student, what is the probability of getting admitted? (round to the nearest 2 decimal places) *(2 Marks)*\n",
    "\n",
    "First, we need the probability that people get a score of 155 or LESS:"
   ]
  },
  {
   "cell_type": "code",
   "execution_count": 2,
   "id": "0d030720",
   "metadata": {},
   "outputs": [
    {
     "name": "stdout",
     "output_type": "stream",
     "text": [
      "15.87 % is the probability of scoring above a 155 or more and being admitted"
     ]
    }
   ],
   "source": [
    "z1 = (155-mean)/stdd\n",
    "\n",
    "#Now, we calculate the probability of getting a 155 or LESS:\n",
    "prob = pnorm(z1)\n",
    "\n",
    "#Now we can see the pronability of getting 155 or MORE by simplying taking 1-prob:\n",
    "cat(round(1-prob,4)*100,\"% is the probability of scoring above a 155 or more and being admitted\")"
   ]
  },
  {
   "cell_type": "markdown",
   "id": "47be69f4",
   "metadata": {},
   "source": [
    "## C) If the program admits students that score better than at least 70% of the students who took the test, will a student who scored 153 points be admitted to the program?\n",
    "\n",
    "Let's see what z-score that student got:"
   ]
  },
  {
   "cell_type": "code",
   "execution_count": 3,
   "id": "49d01561",
   "metadata": {},
   "outputs": [
    {
     "name": "stdout",
     "output_type": "stream",
     "text": [
      "72.57 %"
     ]
    }
   ],
   "source": [
    "z1 = (153-mean)/stdd\n",
    "\n",
    "#And that corresponds to a probability of: \n",
    "\n",
    "cat(round(pnorm(z1),4)*100,\"%\")"
   ]
  },
  {
   "cell_type": "markdown",
   "id": "be64b8fb",
   "metadata": {},
   "source": [
    "So this student scored better than 73% of candidates, which is bigger than 70%, so yes he will be admitted.\n",
    "\n",
    "## D) If two students are randomly selected, calculate the probability that the difference between their subject A scores is less than 10 points. (round to the nearest 2 decimal places)\n",
    "\n",
    "As a reminder: \n",
    "\n",
    "**The scores on subject A are normally distributed with a mean of 80 and a standard\n",
    "deviation of 3**\n",
    "\n",
    "So we have to find the probability that a student would score 10 points or less than another student. Well let's see what happens with some sample z-scores that are 10 points apart:"
   ]
  },
  {
   "cell_type": "code",
   "execution_count": 14,
   "id": "deab1769",
   "metadata": {},
   "outputs": [
    {
     "data": {
      "text/html": [
       "0.666666666666667"
      ],
      "text/latex": [
       "0.666666666666667"
      ],
      "text/markdown": [
       "0.666666666666667"
      ],
      "text/plain": [
       "[1] 0.6666667"
      ]
     },
     "metadata": {},
     "output_type": "display_data"
    },
    {
     "data": {
      "text/html": [
       "4"
      ],
      "text/latex": [
       "4"
      ],
      "text/markdown": [
       "4"
      ],
      "text/plain": [
       "[1] 4"
      ]
     },
     "metadata": {},
     "output_type": "display_data"
    }
   ],
   "source": [
    "mean = 80\n",
    "stdd = 3\n",
    "\n",
    "z1 = (82-mean)/stdd\n",
    "z2 = (92-mean)/stdd\n",
    "z1\n",
    "z2"
   ]
  },
  {
   "cell_type": "code",
   "execution_count": 15,
   "id": "1503f325",
   "metadata": {},
   "outputs": [
    {
     "data": {
      "text/html": [
       "-1.33333333333333"
      ],
      "text/latex": [
       "-1.33333333333333"
      ],
      "text/markdown": [
       "-1.33333333333333"
      ],
      "text/plain": [
       "[1] -1.333333"
      ]
     },
     "metadata": {},
     "output_type": "display_data"
    },
    {
     "data": {
      "text/html": [
       "2"
      ],
      "text/latex": [
       "2"
      ],
      "text/markdown": [
       "2"
      ],
      "text/plain": [
       "[1] 2"
      ]
     },
     "metadata": {},
     "output_type": "display_data"
    }
   ],
   "source": [
    "z1 = (76-mean)/stdd\n",
    "z2 = (86-mean)/stdd\n",
    "z1\n",
    "z2"
   ]
  },
  {
   "cell_type": "code",
   "execution_count": 16,
   "id": "fc9bd377",
   "metadata": {},
   "outputs": [
    {
     "data": {
      "text/html": [
       "-12"
      ],
      "text/latex": [
       "-12"
      ],
      "text/markdown": [
       "-12"
      ],
      "text/plain": [
       "[1] -12"
      ]
     },
     "metadata": {},
     "output_type": "display_data"
    },
    {
     "data": {
      "text/html": [
       "-8.66666666666667"
      ],
      "text/latex": [
       "-8.66666666666667"
      ],
      "text/markdown": [
       "-8.66666666666667"
      ],
      "text/plain": [
       "[1] -8.666667"
      ]
     },
     "metadata": {},
     "output_type": "display_data"
    }
   ],
   "source": [
    "z1 = (44-mean)/stdd\n",
    "z2 = (54-mean)/stdd\n",
    "z1\n",
    "z2"
   ]
  },
  {
   "cell_type": "markdown",
   "id": "eece187a",
   "metadata": {},
   "source": [
    "Their z-scores and probabilities vary wildley with a 10 point difference, so we have to make a whole new distribution, one in which we have 2 students scores $A_1 \\text{ and } A_2$. \n",
    "\n",
    "Let $D=A_1-A_2$ where $A_1,A_2 \\text{ and }D$ are all distributions. D is the difference between these 2 distributions, and as we learned from part A, combining them should be easy!\n",
    "\n",
    "$$\n",
    "\\mu_D=E(A_1)-E(A_2)=80-80=0\\\\\n",
    "\\sigma^2 = Var(A_1-A_2) = Var(A_1)+Var(A_2)=3^2+3^2=18\\\\\n",
    "D\\text{~}N(0,4.2426^2)\n",
    "$$\n",
    "\n",
    "Now the probability of there being a difference of 10 points, is the same as the probability of there being a 10 point difference from the mean: \n",
    "\n",
    "$$\n",
    "z = \\frac{x-\\mu}{\\sigma}=\\frac{10-0}{\\sqrt{18}}=\\frac{10}{\\sqrt{18}}\\approx2.357\n",
    "$$\n",
    "\n",
    "A z-score of 2.357 corresponds to a probability of:"
   ]
  },
  {
   "cell_type": "code",
   "execution_count": 18,
   "id": "b3e2d1c2",
   "metadata": {},
   "outputs": [
    {
     "data": {
      "text/html": [
       "0.99078893727295"
      ],
      "text/latex": [
       "0.99078893727295"
      ],
      "text/markdown": [
       "0.99078893727295"
      ],
      "text/plain": [
       "[1] 0.9907889"
      ]
     },
     "metadata": {},
     "output_type": "display_data"
    }
   ],
   "source": [
    "z = 10/(18)^0.5\n",
    "pnorm(z)"
   ]
  },
  {
   "cell_type": "markdown",
   "id": "a9757d10",
   "metadata": {},
   "source": [
    "But this is 10 points above, what about 10 points below? Well: \n",
    "\n",
    "$$\n",
    "P(10below < z < 10above) = P(10above) - P(10below)\n",
    "$$"
   ]
  },
  {
   "cell_type": "code",
   "execution_count": 24,
   "id": "eea3f126",
   "metadata": {},
   "outputs": [
    {
     "name": "stdout",
     "output_type": "stream",
     "text": [
      "The probability that 2 students score within 10 points of eachother in Part A of the test is  0.98 or 98%"
     ]
    }
   ],
   "source": [
    "above = pnorm(z)\n",
    "below = 1-above\n",
    "prob = above-below\n",
    "\n",
    "cat(\"The probability that 2 students score within 10 points of eachother in Part A of the test is \",round(prob,2),\"or 98%\")"
   ]
  }
 ],
 "metadata": {
  "kernelspec": {
   "display_name": "R",
   "language": "R",
   "name": "ir"
  },
  "language_info": {
   "codemirror_mode": "r",
   "file_extension": ".r",
   "mimetype": "text/x-r-source",
   "name": "R",
   "pygments_lexer": "r",
   "version": "3.6.1"
  }
 },
 "nbformat": 4,
 "nbformat_minor": 5
}
