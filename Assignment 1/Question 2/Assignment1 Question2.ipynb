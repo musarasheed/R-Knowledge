{
 "cells": [
  {
   "cell_type": "markdown",
   "id": "52d44042",
   "metadata": {},
   "source": [
    "# Question 2: Crappies Fishing\n",
    "\n",
    "In the crappies fishing, structures of fishing locations are important, e.g., locations with shelters are preferred. Define the event $A$ as \"fishing at locations with preferred structures\", and define the event $B$ as \"fishing at locations without preferred structures.\" Assume all the other conditions are fixed. Assume the probability of catching crappies at preferred locations at a lake is $80\\%$ among all kinds of fish, and assume the probability of catching crappies at locations that are not preferred at the same lake is $20\\%$.\n",
    "\n",
    "\n",
    "## A):\n",
    "What is the probability that crappies are caught at both locations with preferred structures $l_1$ and with not preferred structures $l_2$? Define the events before computing their respective probabilities. Assume that these events are independent. (3 mark)\n",
    "\n",
    "### Answer\n",
    "Let $$P(A) = 0.8 = \\text{The probability fish were caught at }l_1 \\\\ P(B) = 0.2 = \\text{The probability fish were caught at  } l_2$$\n",
    "\n",
    "Where $l_1$ is the location with prefered structures, and $l_2$ is the location without these prefered structures. \n",
    "\n",
    "If a fisherman were to catch fish at both of these locations, then the probability would be a combination of these 2 probabilites. Given that they are independent, it will simpy be the product of these 2 probabilites. In other words: \n",
    "\n",
    "$$P(A\\cap B) = P(A)*P(B)$$"
   ]
  },
  {
   "cell_type": "code",
   "execution_count": 1,
   "id": "780ab0e1",
   "metadata": {},
   "outputs": [
    {
     "name": "stdout",
     "output_type": "stream",
     "text": [
      "The probability of catching fish at both locations is: 0.16"
     ]
    }
   ],
   "source": [
    "Pa = 0.8\n",
    "Pb = 0.2\n",
    "\n",
    "cat(\"The probability of catching fish at both locations is:\", Pa*Pb)"
   ]
  },
  {
   "cell_type": "markdown",
   "id": "01528074",
   "metadata": {},
   "source": [
    "## B)\n",
    "Assume the probability of catching crappies at a preferred location $l_1$ increases to $85\\%$ if crappies are caught at another preferred location $l_2$. What is the probability that crappies are caught at at least one preferred locations? Define the events before computing their respective probabilities. (3 mark)\n",
    "\n",
    "### Setting up the problem\n",
    "We have 3 probabilities so far:\n",
    "\n",
    "$$\n",
    "P(l_1 | l_2) = \\text{The probability fish were caught at }l_1 \\text{given that fish were caught at } l_2 \\\\\n",
    "P(l_1) = \\text{The probability that fish were caught at preferd location } l_1\\\\\n",
    "P(l_2) = \\text{The probability that fish were caught at preferd location } l_2\n",
    "$$\n",
    "\n",
    "We know already that fishing at prefered locations means an $80\\%$ chance of catching fish, so $P(l_1)=P(l_2)=0.8$. Now, we simply have to find the probability that one is able to catch a fish at $l_1$ **or** $l_2$. Basically, we have to find $P(l_1 \\cup l_2)$ of these non-independent events.\n",
    "\n",
    "$$\n",
    "P(l_1 | l_2) = 0.85\\\\\n",
    "P(l_1) = 0.8 \\\\\n",
    "P(l_2) = 0.8\n",
    "$$"
   ]
  },
  {
   "cell_type": "markdown",
   "id": "99344c68",
   "metadata": {},
   "source": [
    "### Answer\n",
    "\n",
    "We can use the addition rule to find the probability of catching fish at location 1 OR 2:\n",
    "\n",
    "$$\n",
    "P(l_1 \\cup l_2) = P(l_1) + P(l_2) - P(l_1 \\cap l_2)\\\\\n",
    "$$\n",
    "\n",
    "And we can get the intersection using the multiplication rule:\n",
    "\n",
    "$$\n",
    "P(l_1 | l_2) = \\frac{P(l_1 \\cap l_2)}{P(l_2)} \\\\\n",
    "P(l_1 | l_2)*P(l_2)=P(l_1 \\cap l_2) \\\\\n",
    "P(l_1 \\cap l_2)=0.85*0.8 = 0.68\n",
    "$$\n",
    "\n",
    "Now to plug in the values: \n",
    "\n",
    "$$\n",
    "P(l_1 \\cup l_2) = P(l_1) + P(l_2) - P(l_1 \\cap l_2)\\\\\n",
    "P(l_1 \\cup l_2) = 0.8 + 0.8 - 0.68\\\\\n",
    "P(l_1 \\cup l_2) = 0.92\n",
    "$$\n",
    "\n",
    "The answer is 0.92 or 92% that the fish were caught in at least 1 prefered location."
   ]
  },
  {
   "cell_type": "markdown",
   "id": "5344b9b7",
   "metadata": {},
   "source": [
    "## C) \n",
    "\n",
    "If the probability of catching crappies at locations $l_1$, $l_2$ with preferred structures and at locations $l_3$, $l_4$ without preferred structures are independent, what is the probability that crappies are successfully caught at all the locations? Define the events before computing their respective probabilities. (4 mark)\n",
    "\n",
    "### Answer\n",
    "\n",
    "Guven that the events $P(l_3)$ and $P(l_4)$ are independent of eachother (as stated in the question) we can calculate the probabilites by multiplying the following events together: \n",
    "\n",
    "$$\n",
    "P(l_3 \\cap l_4 \\cap (l_1 \\cap l_2))\n",
    "$$\n",
    "\n",
    "Luckily, independent events can be combined very easily through multiplication:"
   ]
  },
  {
   "cell_type": "code",
   "execution_count": 2,
   "id": "0ac826f3",
   "metadata": {},
   "outputs": [
    {
     "name": "stdout",
     "output_type": "stream",
     "text": [
      "The Answer is 0.027 or 2.7 %"
     ]
    }
   ],
   "source": [
    "PL1L2 = 0.68 #The probability found in the last question \n",
    "PL3 = 0.2 #Probability of a non-prefered structure spot l3\n",
    "PL4 = 0.2 #Probability of a non-prefered structure spot l4\n",
    "\n",
    "cat(\"The Answer is\",round(PL1L2 * PL3 * PL4,3),\"or\",round(PL1L2 * PL3 * PL4,3)*100,\"%\")"
   ]
  }
 ],
 "metadata": {
  "kernelspec": {
   "display_name": "R",
   "language": "R",
   "name": "ir"
  },
  "language_info": {
   "codemirror_mode": "r",
   "file_extension": ".r",
   "mimetype": "text/x-r-source",
   "name": "R",
   "pygments_lexer": "r",
   "version": "3.6.1"
  }
 },
 "nbformat": 4,
 "nbformat_minor": 5
}
