{
 "cells": [
  {
   "cell_type": "code",
   "execution_count": 1,
   "id": "701fb084",
   "metadata": {},
   "outputs": [],
   "source": [
    "# A thing to adjust the size of the plot\n",
    "options(repr.plot.width=5, repr.plot.height=4)"
   ]
  },
  {
   "cell_type": "markdown",
   "id": "4d413aef",
   "metadata": {},
   "source": [
    "# Question 1: Breaking Dataset\n",
    "# By Musa Rasheed (25618232)\n",
    "\n",
    "An experiment was conducted to select the supplier of raw materials for production of a component. The breaking strength of the component (column breaking) was the objective of interest. 4 suppliers were considered (column supplier). The four operators (column operator) can only produce one component each per day. \n",
    "\n",
    "Let's begin by loading in the data from the text file:"
   ]
  },
  {
   "cell_type": "code",
   "execution_count": 2,
   "id": "43270296",
   "metadata": {},
   "outputs": [
    {
     "data": {
      "text/html": [
       "<table>\n",
       "<thead><tr><th scope=col>breaking</th><th scope=col>operator</th><th scope=col>day</th><th scope=col>supplier</th></tr></thead>\n",
       "<tbody>\n",
       "\t<tr><td> 810</td><td>op1 </td><td>day1</td><td>B   </td></tr>\n",
       "\t<tr><td>1080</td><td>op1 </td><td>day2</td><td>C   </td></tr>\n",
       "\t<tr><td> 700</td><td>op1 </td><td>day3</td><td>A   </td></tr>\n",
       "\t<tr><td> 910</td><td>op1 </td><td>day4</td><td>D   </td></tr>\n",
       "\t<tr><td>1100</td><td>op2 </td><td>day1</td><td>C   </td></tr>\n",
       "\t<tr><td> 880</td><td>op2 </td><td>day2</td><td>D   </td></tr>\n",
       "\t<tr><td> 780</td><td>op2 </td><td>day3</td><td>B   </td></tr>\n",
       "\t<tr><td> 600</td><td>op2 </td><td>day4</td><td>A   </td></tr>\n",
       "\t<tr><td> 840</td><td>op3 </td><td>day1</td><td>D   </td></tr>\n",
       "\t<tr><td> 540</td><td>op3 </td><td>day2</td><td>A   </td></tr>\n",
       "\t<tr><td>1055</td><td>op3 </td><td>day3</td><td>C   </td></tr>\n",
       "\t<tr><td> 830</td><td>op3 </td><td>day4</td><td>B   </td></tr>\n",
       "\t<tr><td> 650</td><td>op4 </td><td>day1</td><td>A   </td></tr>\n",
       "\t<tr><td> 740</td><td>op4 </td><td>day2</td><td>B   </td></tr>\n",
       "\t<tr><td>1025</td><td>op4 </td><td>day3</td><td>D   </td></tr>\n",
       "\t<tr><td> 900</td><td>op4 </td><td>day4</td><td>C   </td></tr>\n",
       "</tbody>\n",
       "</table>\n"
      ],
      "text/latex": [
       "\\begin{tabular}{r|llll}\n",
       " breaking & operator & day & supplier\\\\\n",
       "\\hline\n",
       "\t  810 & op1  & day1 & B   \\\\\n",
       "\t 1080 & op1  & day2 & C   \\\\\n",
       "\t  700 & op1  & day3 & A   \\\\\n",
       "\t  910 & op1  & day4 & D   \\\\\n",
       "\t 1100 & op2  & day1 & C   \\\\\n",
       "\t  880 & op2  & day2 & D   \\\\\n",
       "\t  780 & op2  & day3 & B   \\\\\n",
       "\t  600 & op2  & day4 & A   \\\\\n",
       "\t  840 & op3  & day1 & D   \\\\\n",
       "\t  540 & op3  & day2 & A   \\\\\n",
       "\t 1055 & op3  & day3 & C   \\\\\n",
       "\t  830 & op3  & day4 & B   \\\\\n",
       "\t  650 & op4  & day1 & A   \\\\\n",
       "\t  740 & op4  & day2 & B   \\\\\n",
       "\t 1025 & op4  & day3 & D   \\\\\n",
       "\t  900 & op4  & day4 & C   \\\\\n",
       "\\end{tabular}\n"
      ],
      "text/markdown": [
       "\n",
       "| breaking | operator | day | supplier |\n",
       "|---|---|---|---|\n",
       "|  810 | op1  | day1 | B    |\n",
       "| 1080 | op1  | day2 | C    |\n",
       "|  700 | op1  | day3 | A    |\n",
       "|  910 | op1  | day4 | D    |\n",
       "| 1100 | op2  | day1 | C    |\n",
       "|  880 | op2  | day2 | D    |\n",
       "|  780 | op2  | day3 | B    |\n",
       "|  600 | op2  | day4 | A    |\n",
       "|  840 | op3  | day1 | D    |\n",
       "|  540 | op3  | day2 | A    |\n",
       "| 1055 | op3  | day3 | C    |\n",
       "|  830 | op3  | day4 | B    |\n",
       "|  650 | op4  | day1 | A    |\n",
       "|  740 | op4  | day2 | B    |\n",
       "| 1025 | op4  | day3 | D    |\n",
       "|  900 | op4  | day4 | C    |\n",
       "\n"
      ],
      "text/plain": [
       "   breaking operator day  supplier\n",
       "1   810     op1      day1 B       \n",
       "2  1080     op1      day2 C       \n",
       "3   700     op1      day3 A       \n",
       "4   910     op1      day4 D       \n",
       "5  1100     op2      day1 C       \n",
       "6   880     op2      day2 D       \n",
       "7   780     op2      day3 B       \n",
       "8   600     op2      day4 A       \n",
       "9   840     op3      day1 D       \n",
       "10  540     op3      day2 A       \n",
       "11 1055     op3      day3 C       \n",
       "12  830     op3      day4 B       \n",
       "13  650     op4      day1 A       \n",
       "14  740     op4      day2 B       \n",
       "15 1025     op4      day3 D       \n",
       "16  900     op4      day4 C       "
      ]
     },
     "metadata": {},
     "output_type": "display_data"
    }
   ],
   "source": [
    "broke = read.table('breaking.txt', header = TRUE, sep = \"\", dec = \".\")\n",
    "broke"
   ]
  },
  {
   "cell_type": "markdown",
   "id": "aef40bd8",
   "metadata": {},
   "source": [
    "## A) Create a histogram of breaking strength and label the axes properly. Comment on the shape of the distribution. (3 marks)"
   ]
  },
  {
   "cell_type": "code",
   "execution_count": 3,
   "id": "1555eeec",
   "metadata": {},
   "outputs": [
    {
     "data": {
      "image/png": "[encoded data removed]",
      "text/plain": [
       "Plot with title \"Histogram of the Breaking Strength\""
      ]
     },
     "metadata": {},
     "output_type": "display_data"
    }
   ],
   "source": [
    "hist(broke$breaking, \n",
    "     main = \"Histogram of the Breaking Strength\",\n",
    "     xlab = \"Breaking Strength\",\n",
    "     ylab = \"Frequency\")"
   ]
  },
  {
   "cell_type": "markdown",
   "id": "72f263d7",
   "metadata": {},
   "source": [
    "The breaking strength histogram seems to be fairly flat up until the 800-1100 range. There are 2 distinct peaks that make this a bimodal histogram (although this could be due to a lack of data as there are only 16 entries). "
   ]
  },
  {
   "cell_type": "markdown",
   "id": "2544ce9c",
   "metadata": {},
   "source": [
    "## B) Find the five number summary and the standard deviation for the variable breaking strength. (2 marks)\n",
    "\n",
    "This can be done by simply using the `summary()` function:"
   ]
  },
  {
   "cell_type": "code",
   "execution_count": 4,
   "id": "e24de440",
   "metadata": {},
   "outputs": [
    {
     "data": {
      "text/plain": [
       "   Min. 1st Qu.  Median    Mean 3rd Qu.    Max. \n",
       "  540.0   730.0   835.0   840.0   938.8  1100.0 "
      ]
     },
     "metadata": {},
     "output_type": "display_data"
    }
   ],
   "source": [
    "summary(broke$breaking)"
   ]
  },
  {
   "cell_type": "markdown",
   "id": "368941ec",
   "metadata": {},
   "source": [
    "The 5 number summary is shown above through R (simply ignore the mean column, or see below).\n",
    "\n",
    "```\n",
    " Min      Q1     Median     3rd Qu.    Max. \n",
    "540.0   730.0    835.0      938.8     1100.0 \n",
    "```\n",
    "\n",
    "Now to find the standard deviation, we can use the `sd()` function:"
   ]
  },
  {
   "cell_type": "code",
   "execution_count": 5,
   "id": "216db350",
   "metadata": {},
   "outputs": [
    {
     "data": {
      "text/html": [
       "170.029409220876"
      ],
      "text/latex": [
       "170.029409220876"
      ],
      "text/markdown": [
       "170.029409220876"
      ],
      "text/plain": [
       "[1] 170.0294"
      ]
     },
     "metadata": {},
     "output_type": "display_data"
    }
   ],
   "source": [
    "sd(broke$breaking)"
   ]
  },
  {
   "cell_type": "markdown",
   "id": "166f4c26",
   "metadata": {},
   "source": [
    "## C)  Create a proper graphical display to compare the breaking strength distributions of the four different suppliers and label the axes properly. Which supplier would you recommend? Justify your answer with a brief sentence. (3 marks)\n",
    "\n",
    "Inspiered by the last question, I will use side-by-side boxplots (similair to what is done in Lab 1 Q4)."
   ]
  },
  {
   "cell_type": "code",
   "execution_count": 6,
   "id": "8d80a9d0",
   "metadata": {},
   "outputs": [
    {
     "data": {
      "image/png": "[encoded data removed]",
      "text/plain": [
       "Plot with title \"Breaking Strength Boxplot for Each Supplier\""
      ]
     },
     "metadata": {},
     "output_type": "display_data"
    }
   ],
   "source": [
    "boxplot(breaking~supplier,\n",
    "        data = broke,\n",
    "        main = \"Breaking Strength Boxplot for Each Supplier\",\n",
    "        ylab = 'Breaking Strength')"
   ]
  },
  {
   "cell_type": "markdown",
   "id": "5473b0db",
   "metadata": {},
   "source": [
    "Assuming the objective of the raw material is to have the highest breaking strength possible, supplier C seems to be the best choice given that it's median breaking strength is by far the highest indicating a relativley consistent result compared to the others. \n",
    "\n",
    "(Of course we may need more data to make a more concrete decision given that there are only 4 entries per supplier)\n",
    "\n",
    "\n",
    "## D)  Suppose the breaking strength for operator 3 on day 2 was entered incorrectly and should have been 600 instead of 540. How would your answer in part (b) change? (2 marks)\n",
    "\n",
    "To answer this, we simply need to change the data. There are a number of ways to make this change, but I will use a siply approach. I'll simplly call the row and column that data is in and change in manually. "
   ]
  },
  {
   "cell_type": "code",
   "execution_count": 7,
   "id": "771267e3",
   "metadata": {},
   "outputs": [
    {
     "data": {
      "text/html": [
       "<table>\n",
       "<thead><tr><th></th><th scope=col>breaking</th><th scope=col>operator</th><th scope=col>day</th><th scope=col>supplier</th></tr></thead>\n",
       "<tbody>\n",
       "\t<tr><th scope=row>10</th><td>600 </td><td>op3 </td><td>day2</td><td>A   </td></tr>\n",
       "</tbody>\n",
       "</table>\n"
      ],
      "text/latex": [
       "\\begin{tabular}{r|llll}\n",
       "  & breaking & operator & day & supplier\\\\\n",
       "\\hline\n",
       "\t10 & 600  & op3  & day2 & A   \\\\\n",
       "\\end{tabular}\n"
      ],
      "text/markdown": [
       "\n",
       "| <!--/--> | breaking | operator | day | supplier |\n",
       "|---|---|---|---|---|\n",
       "| 10 | 600  | op3  | day2 | A    |\n",
       "\n"
      ],
      "text/plain": [
       "   breaking operator day  supplier\n",
       "10 600      op3      day2 A       "
      ]
     },
     "metadata": {},
     "output_type": "display_data"
    }
   ],
   "source": [
    "broke$breaking[10] = 600\n",
    "broke[10,]"
   ]
  },
  {
   "cell_type": "code",
   "execution_count": 8,
   "id": "ff7b1ea9",
   "metadata": {},
   "outputs": [
    {
     "data": {
      "text/plain": [
       "   Min. 1st Qu.  Median    Mean 3rd Qu.    Max. \n",
       "  600.0   730.0   835.0   843.8   938.8  1100.0 "
      ]
     },
     "metadata": {},
     "output_type": "display_data"
    }
   ],
   "source": [
    "#Now we can reuse the summary function from before on the modifed dataset\n",
    "\n",
    "summary(broke$breaking)"
   ]
  },
  {
   "cell_type": "markdown",
   "id": "1c0d61ad",
   "metadata": {},
   "source": [
    "This is the new 5 number summary: \n",
    "\n",
    "```\n",
    " Min      Q1     Median     3rd Qu.    Max. \n",
    "600.0   730.0    835.0      938.8     1100.0 \n",
    "```\n",
    "\n",
    "Since the quartiles and median are based on position in the ordered list (when we organize from smallest to largest) the summary does not change all that much. Since 600 is the lowest number in the group, it beccomes the new minimum leaving the rest of the numbers untouched.\n",
    "\n",
    "As for the standard deviation:"
   ]
  },
  {
   "cell_type": "code",
   "execution_count": 9,
   "id": "bbb4021f",
   "metadata": {},
   "outputs": [
    {
     "data": {
      "text/html": [
       "163.508409569661"
      ],
      "text/latex": [
       "163.508409569661"
      ],
      "text/markdown": [
       "163.508409569661"
      ],
      "text/plain": [
       "[1] 163.5084"
      ]
     },
     "metadata": {},
     "output_type": "display_data"
    }
   ],
   "source": [
    "sd(broke$breaking)"
   ]
  },
  {
   "cell_type": "markdown",
   "id": "4962a130",
   "metadata": {},
   "source": [
    "It has changed from 170.029409220876 to 163.508409569661. This smaller standard deviation indicates that the values are more similair in value to eachother (whch they are since the minimum was raised, thus bringing it closer to the other values)"
   ]
  }
 ],
 "metadata": {
  "kernelspec": {
   "display_name": "R",
   "language": "R",
   "name": "ir"
  },
  "language_info": {
   "codemirror_mode": "r",
   "file_extension": ".r",
   "mimetype": "text/x-r-source",
   "name": "R",
   "pygments_lexer": "r",
   "version": "3.6.1"
  }
 },
 "nbformat": 4,
 "nbformat_minor": 5
}
