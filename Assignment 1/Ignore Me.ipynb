{
 "cells": [
  {
   "cell_type": "code",
   "execution_count": 17,
   "id": "7ff54b8a",
   "metadata": {},
   "outputs": [],
   "source": [
    "Sp = function(n1,s1,n2,s2){\n",
    "    top = (n1-1)*s1^2 + (n2-1)*s2^2\n",
    "    bot = n1+n2-1\n",
    "    print(sqrt(top/bot))\n",
    "}\n"
   ]
  },
  {
   "attachments": {
    "image.png": {
     "image/png": "[encoded data removed]"
    }
   },
   "cell_type": "markdown",
   "id": "300edfd7",
   "metadata": {},
   "source": [
    "![image.png](attachment:image.png)"
   ]
  },
  {
   "cell_type": "code",
   "execution_count": 19,
   "id": "0b76128f",
   "metadata": {},
   "outputs": [
    {
     "name": "stdout",
     "output_type": "stream",
     "text": [
      "[1] 0.6738825\n"
     ]
    }
   ],
   "source": [
    "Sp(8,0.8,10,0.6)"
   ]
  },
  {
   "cell_type": "code",
   "execution_count": 23,
   "id": "5498e9ae",
   "metadata": {},
   "outputs": [],
   "source": [
    "ci = 2.12*0.695*sqrt((1/8)+(1/10))"
   ]
  },
  {
   "cell_type": "code",
   "execution_count": 25,
   "id": "1a779ef5",
   "metadata": {},
   "outputs": [
    {
     "data": {
      "text/html": [
       "0.501105014326186"
      ],
      "text/latex": [
       "0.501105014326186"
      ],
      "text/markdown": [
       "0.501105014326186"
      ],
      "text/plain": [
       "[1] 0.501105"
      ]
     },
     "metadata": {},
     "output_type": "display_data"
    }
   ],
   "source": [
    "1.2-ci"
   ]
  },
  {
   "cell_type": "code",
   "execution_count": null,
   "id": "3289f8fa",
   "metadata": {},
   "outputs": [],
   "source": []
  }
 ],
 "metadata": {
  "kernelspec": {
   "display_name": "R",
   "language": "R",
   "name": "ir"
  },
  "language_info": {
   "codemirror_mode": "r",
   "file_extension": ".r",
   "mimetype": "text/x-r-source",
   "name": "R",
   "pygments_lexer": "r",
   "version": "3.6.1"
  }
 },
 "nbformat": 4,
 "nbformat_minor": 5
}
