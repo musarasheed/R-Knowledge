{
 "cells": [
  {
   "cell_type": "code",
   "execution_count": 1,
   "id": "6fa14ecd",
   "metadata": {},
   "outputs": [
    {
     "data": {
      "text/html": [
       "0.864664716763387"
      ],
      "text/latex": [
       "0.864664716763387"
      ],
      "text/markdown": [
       "0.864664716763387"
      ],
      "text/plain": [
       "[1] 0.8646647"
      ]
     },
     "metadata": {},
     "output_type": "display_data"
    }
   ],
   "source": [
    "pexp(1,2)"
   ]
  },
  {
   "cell_type": "code",
   "execution_count": 5,
   "id": "94027864",
   "metadata": {},
   "outputs": [
    {
     "data": {
      "text/html": [
       "0.117019644347878"
      ],
      "text/latex": [
       "0.117019644347878"
      ],
      "text/markdown": [
       "0.117019644347878"
      ],
      "text/plain": [
       "[1] 0.1170196"
      ]
     },
     "metadata": {},
     "output_type": "display_data"
    }
   ],
   "source": [
    "pexp(2,2) - pexp(1,2)"
   ]
  },
  {
   "cell_type": "code",
   "execution_count": 6,
   "id": "ebe2e8a8",
   "metadata": {},
   "outputs": [
    {
     "data": {
      "text/html": [
       "0.0183156388887342"
      ],
      "text/latex": [
       "0.0183156388887342"
      ],
      "text/markdown": [
       "0.0183156388887342"
      ],
      "text/plain": [
       "[1] 0.01831564"
      ]
     },
     "metadata": {},
     "output_type": "display_data"
    }
   ],
   "source": [
    "1 - pexp(2,2)"
   ]
  },
  {
   "cell_type": "code",
   "execution_count": 8,
   "id": "ae0e0f78",
   "metadata": {},
   "outputs": [
    {
     "data": {
      "text/html": [
       "0.14384103622589"
      ],
      "text/latex": [
       "0.14384103622589"
      ],
      "text/markdown": [
       "0.14384103622589"
      ],
      "text/plain": [
       "[1] 0.143841"
      ]
     },
     "metadata": {},
     "output_type": "display_data"
    },
    {
     "data": {
      "text/html": [
       "0.346573590279973"
      ],
      "text/latex": [
       "0.346573590279973"
      ],
      "text/markdown": [
       "0.346573590279973"
      ],
      "text/plain": [
       "[1] 0.3465736"
      ]
     },
     "metadata": {},
     "output_type": "display_data"
    },
    {
     "data": {
      "text/html": [
       "0.693147180559945"
      ],
      "text/latex": [
       "0.693147180559945"
      ],
      "text/markdown": [
       "0.693147180559945"
      ],
      "text/plain": [
       "[1] 0.6931472"
      ]
     },
     "metadata": {},
     "output_type": "display_data"
    }
   ],
   "source": [
    "qexp(0.25,2)\n",
    "qexp(0.50,2)\n",
    "qexp(0.75,2)"
   ]
  },
  {
   "cell_type": "code",
   "execution_count": 55,
   "id": "0693baf0",
   "metadata": {},
   "outputs": [
    {
     "data": {
      "image/png": "[encoded data removed]",
      "text/plain": [
       "Plot with title \"Probability Density Diagram\""
      ]
     },
     "metadata": {},
     "output_type": "display_data"
    }
   ],
   "source": [
    "x = rexp(6000,2) #The Data\n",
    "hist(x, prob=TRUE, main = \"Probability Density Diagram\") #Creating the density histogram\n",
    "curve(dexp(x,2),from=0,to=5,add=TRUE) #Adding what the distribution would look like"
   ]
  },
  {
   "cell_type": "code",
   "execution_count": null,
   "id": "8bab9517",
   "metadata": {},
   "outputs": [],
   "source": []
  }
 ],
 "metadata": {
  "kernelspec": {
   "display_name": "R",
   "language": "R",
   "name": "ir"
  },
  "language_info": {
   "codemirror_mode": "r",
   "file_extension": ".r",
   "mimetype": "text/x-r-source",
   "name": "R",
   "pygments_lexer": "r",
   "version": "3.6.1"
  }
 },
 "nbformat": 4,
 "nbformat_minor": 5
}
