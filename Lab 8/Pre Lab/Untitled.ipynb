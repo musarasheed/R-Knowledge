{
 "cells": [
  {
   "cell_type": "markdown",
   "id": "af558933",
   "metadata": {},
   "source": [
    "# Lab 8 Pre-lab stuff\n"
   ]
  },
  {
   "cell_type": "code",
   "execution_count": 8,
   "id": "bfbd2d41",
   "metadata": {},
   "outputs": [
    {
     "data": {
      "text/html": [
       "<table>\n",
       "<thead><tr><th scope=col>Team</th><th scope=col>JerseyNo</th><th scope=col>Age</th><th scope=col>Height</th><th scope=col>Weight</th></tr></thead>\n",
       "<tbody>\n",
       "\t<tr><td>A   </td><td> 1  </td><td> 4  </td><td>1.19</td><td>53.1</td></tr>\n",
       "\t<tr><td>A   </td><td> 2  </td><td> 6  </td><td>1.25</td><td>48.2</td></tr>\n",
       "\t<tr><td>A   </td><td> 3  </td><td> 7  </td><td>1.28</td><td>48.4</td></tr>\n",
       "\t<tr><td>A   </td><td> 4  </td><td> 4  </td><td>1.26</td><td>48.4</td></tr>\n",
       "\t<tr><td>A   </td><td> 5  </td><td> 4  </td><td>1.22</td><td>54.6</td></tr>\n",
       "\t<tr><td>A   </td><td> 6  </td><td> 6  </td><td>1.23</td><td>49.0</td></tr>\n",
       "\t<tr><td>A   </td><td> 7  </td><td> 4  </td><td>1.23</td><td>50.0</td></tr>\n",
       "\t<tr><td>A   </td><td> 8  </td><td> 7  </td><td>1.33</td><td>51.1</td></tr>\n",
       "\t<tr><td>A   </td><td> 9  </td><td> 7  </td><td>1.20</td><td>56.0</td></tr>\n",
       "\t<tr><td>A   </td><td>10  </td><td> 7  </td><td>1.26</td><td>60.6</td></tr>\n",
       "\t<tr><td>A   </td><td>11  </td><td> 5  </td><td>1.26</td><td>58.6</td></tr>\n",
       "\t<tr><td>A   </td><td>12  </td><td> 6  </td><td>1.39</td><td>58.4</td></tr>\n",
       "\t<tr><td>A   </td><td>13  </td><td> 7  </td><td>1.27</td><td>55.3</td></tr>\n",
       "\t<tr><td>A   </td><td>14  </td><td> 7  </td><td>1.26</td><td>50.5</td></tr>\n",
       "\t<tr><td>A   </td><td>15  </td><td> 4  </td><td>1.20</td><td>45.7</td></tr>\n",
       "\t<tr><td>A   </td><td>16  </td><td> 5  </td><td>1.28</td><td>65.2</td></tr>\n",
       "\t<tr><td>A   </td><td>17  </td><td> 4  </td><td>1.19</td><td>41.7</td></tr>\n",
       "\t<tr><td>A   </td><td>18  </td><td> 7  </td><td>1.25</td><td>57.1</td></tr>\n",
       "\t<tr><td>A   </td><td>19  </td><td> 5  </td><td>1.25</td><td>55.1</td></tr>\n",
       "\t<tr><td>A   </td><td>20  </td><td> 7  </td><td>1.32</td><td>54.8</td></tr>\n",
       "\t<tr><td>A   </td><td>21  </td><td> 4  </td><td>1.16</td><td>47.2</td></tr>\n",
       "\t<tr><td>A   </td><td>22  </td><td> 7  </td><td>1.27</td><td>53.1</td></tr>\n",
       "\t<tr><td>A   </td><td>23  </td><td> 6  </td><td>1.28</td><td>51.2</td></tr>\n",
       "\t<tr><td>A   </td><td>24  </td><td> 6  </td><td>1.34</td><td>55.0</td></tr>\n",
       "\t<tr><td>A   </td><td>25  </td><td> 4  </td><td>1.21</td><td>57.1</td></tr>\n",
       "\t<tr><td>B   </td><td> 1  </td><td>12  </td><td>1.60</td><td>73.4</td></tr>\n",
       "\t<tr><td>B   </td><td> 2  </td><td>12  </td><td>1.58</td><td>79.6</td></tr>\n",
       "\t<tr><td>B   </td><td> 3  </td><td>10  </td><td>1.43</td><td>80.3</td></tr>\n",
       "\t<tr><td>B   </td><td> 4  </td><td>13  </td><td>1.55</td><td>79.8</td></tr>\n",
       "\t<tr><td>B   </td><td> 5  </td><td>13  </td><td>1.61</td><td>74.5</td></tr>\n",
       "\t<tr><td>...</td><td>...</td><td>...</td><td>...</td><td>...</td></tr>\n",
       "\t<tr><td>B    </td><td>21   </td><td>11   </td><td>1.63 </td><td> 81.5</td></tr>\n",
       "\t<tr><td>B    </td><td>22   </td><td>14   </td><td>1.64 </td><td> 83.5</td></tr>\n",
       "\t<tr><td>B    </td><td>23   </td><td>11   </td><td>1.52 </td><td> 80.7</td></tr>\n",
       "\t<tr><td>B    </td><td>24   </td><td>10   </td><td>1.48 </td><td> 78.3</td></tr>\n",
       "\t<tr><td>B    </td><td>25   </td><td>14   </td><td>1.71 </td><td> 74.9</td></tr>\n",
       "\t<tr><td>C    </td><td> 1   </td><td>18   </td><td>1.80 </td><td> 99.1</td></tr>\n",
       "\t<tr><td>C    </td><td> 2   </td><td>25   </td><td>2.04 </td><td>110.2</td></tr>\n",
       "\t<tr><td>C    </td><td> 3   </td><td>23   </td><td>1.86 </td><td>106.8</td></tr>\n",
       "\t<tr><td>C    </td><td> 4   </td><td>24   </td><td>2.01 </td><td>103.2</td></tr>\n",
       "\t<tr><td>C    </td><td> 5   </td><td>25   </td><td>1.91 </td><td>104.4</td></tr>\n",
       "\t<tr><td>C    </td><td> 6   </td><td>24   </td><td>2.04 </td><td>110.0</td></tr>\n",
       "\t<tr><td>C    </td><td> 7   </td><td>24   </td><td>1.94 </td><td>108.0</td></tr>\n",
       "\t<tr><td>C    </td><td> 8   </td><td>20   </td><td>1.88 </td><td> 97.2</td></tr>\n",
       "\t<tr><td>C    </td><td> 9   </td><td>24   </td><td>1.92 </td><td>111.1</td></tr>\n",
       "\t<tr><td>C    </td><td>10   </td><td>22   </td><td>1.86 </td><td> 99.7</td></tr>\n",
       "\t<tr><td>C    </td><td>11   </td><td>18   </td><td>1.73 </td><td> 96.1</td></tr>\n",
       "\t<tr><td>C    </td><td>12   </td><td>19   </td><td>1.83 </td><td> 96.4</td></tr>\n",
       "\t<tr><td>C    </td><td>13   </td><td>24   </td><td>2.00 </td><td>107.6</td></tr>\n",
       "\t<tr><td>C    </td><td>14   </td><td>23   </td><td>1.94 </td><td>103.6</td></tr>\n",
       "\t<tr><td>C    </td><td>15   </td><td>21   </td><td>1.90 </td><td>118.1</td></tr>\n",
       "\t<tr><td>C    </td><td>16   </td><td>21   </td><td>1.88 </td><td> 97.5</td></tr>\n",
       "\t<tr><td>C    </td><td>17   </td><td>19   </td><td>1.76 </td><td> 90.2</td></tr>\n",
       "\t<tr><td>C    </td><td>18   </td><td>19   </td><td>1.86 </td><td>112.5</td></tr>\n",
       "\t<tr><td>C    </td><td>19   </td><td>20   </td><td>1.85 </td><td>105.6</td></tr>\n",
       "\t<tr><td>C    </td><td>20   </td><td>24   </td><td>2.05 </td><td>110.6</td></tr>\n",
       "\t<tr><td>C    </td><td>21   </td><td>25   </td><td>1.91 </td><td>108.4</td></tr>\n",
       "\t<tr><td>C    </td><td>22   </td><td>24   </td><td>1.90 </td><td>108.6</td></tr>\n",
       "\t<tr><td>C    </td><td>23   </td><td>25   </td><td>1.97 </td><td>101.4</td></tr>\n",
       "\t<tr><td>C    </td><td>24   </td><td>19   </td><td>1.83 </td><td>106.8</td></tr>\n",
       "\t<tr><td>C    </td><td>25   </td><td>24   </td><td>1.94 </td><td>110.6</td></tr>\n",
       "</tbody>\n",
       "</table>\n"
      ],
      "text/latex": [
       "\\begin{tabular}{r|lllll}\n",
       " Team & JerseyNo & Age & Height & Weight\\\\\n",
       "\\hline\n",
       "\t A    &  1   &  4   & 1.19 & 53.1\\\\\n",
       "\t A    &  2   &  6   & 1.25 & 48.2\\\\\n",
       "\t A    &  3   &  7   & 1.28 & 48.4\\\\\n",
       "\t A    &  4   &  4   & 1.26 & 48.4\\\\\n",
       "\t A    &  5   &  4   & 1.22 & 54.6\\\\\n",
       "\t A    &  6   &  6   & 1.23 & 49.0\\\\\n",
       "\t A    &  7   &  4   & 1.23 & 50.0\\\\\n",
       "\t A    &  8   &  7   & 1.33 & 51.1\\\\\n",
       "\t A    &  9   &  7   & 1.20 & 56.0\\\\\n",
       "\t A    & 10   &  7   & 1.26 & 60.6\\\\\n",
       "\t A    & 11   &  5   & 1.26 & 58.6\\\\\n",
       "\t A    & 12   &  6   & 1.39 & 58.4\\\\\n",
       "\t A    & 13   &  7   & 1.27 & 55.3\\\\\n",
       "\t A    & 14   &  7   & 1.26 & 50.5\\\\\n",
       "\t A    & 15   &  4   & 1.20 & 45.7\\\\\n",
       "\t A    & 16   &  5   & 1.28 & 65.2\\\\\n",
       "\t A    & 17   &  4   & 1.19 & 41.7\\\\\n",
       "\t A    & 18   &  7   & 1.25 & 57.1\\\\\n",
       "\t A    & 19   &  5   & 1.25 & 55.1\\\\\n",
       "\t A    & 20   &  7   & 1.32 & 54.8\\\\\n",
       "\t A    & 21   &  4   & 1.16 & 47.2\\\\\n",
       "\t A    & 22   &  7   & 1.27 & 53.1\\\\\n",
       "\t A    & 23   &  6   & 1.28 & 51.2\\\\\n",
       "\t A    & 24   &  6   & 1.34 & 55.0\\\\\n",
       "\t A    & 25   &  4   & 1.21 & 57.1\\\\\n",
       "\t B    &  1   & 12   & 1.60 & 73.4\\\\\n",
       "\t B    &  2   & 12   & 1.58 & 79.6\\\\\n",
       "\t B    &  3   & 10   & 1.43 & 80.3\\\\\n",
       "\t B    &  4   & 13   & 1.55 & 79.8\\\\\n",
       "\t B    &  5   & 13   & 1.61 & 74.5\\\\\n",
       "\t ... & ... & ... & ... & ...\\\\\n",
       "\t B     & 21    & 11    & 1.63  &  81.5\\\\\n",
       "\t B     & 22    & 14    & 1.64  &  83.5\\\\\n",
       "\t B     & 23    & 11    & 1.52  &  80.7\\\\\n",
       "\t B     & 24    & 10    & 1.48  &  78.3\\\\\n",
       "\t B     & 25    & 14    & 1.71  &  74.9\\\\\n",
       "\t C     &  1    & 18    & 1.80  &  99.1\\\\\n",
       "\t C     &  2    & 25    & 2.04  & 110.2\\\\\n",
       "\t C     &  3    & 23    & 1.86  & 106.8\\\\\n",
       "\t C     &  4    & 24    & 2.01  & 103.2\\\\\n",
       "\t C     &  5    & 25    & 1.91  & 104.4\\\\\n",
       "\t C     &  6    & 24    & 2.04  & 110.0\\\\\n",
       "\t C     &  7    & 24    & 1.94  & 108.0\\\\\n",
       "\t C     &  8    & 20    & 1.88  &  97.2\\\\\n",
       "\t C     &  9    & 24    & 1.92  & 111.1\\\\\n",
       "\t C     & 10    & 22    & 1.86  &  99.7\\\\\n",
       "\t C     & 11    & 18    & 1.73  &  96.1\\\\\n",
       "\t C     & 12    & 19    & 1.83  &  96.4\\\\\n",
       "\t C     & 13    & 24    & 2.00  & 107.6\\\\\n",
       "\t C     & 14    & 23    & 1.94  & 103.6\\\\\n",
       "\t C     & 15    & 21    & 1.90  & 118.1\\\\\n",
       "\t C     & 16    & 21    & 1.88  &  97.5\\\\\n",
       "\t C     & 17    & 19    & 1.76  &  90.2\\\\\n",
       "\t C     & 18    & 19    & 1.86  & 112.5\\\\\n",
       "\t C     & 19    & 20    & 1.85  & 105.6\\\\\n",
       "\t C     & 20    & 24    & 2.05  & 110.6\\\\\n",
       "\t C     & 21    & 25    & 1.91  & 108.4\\\\\n",
       "\t C     & 22    & 24    & 1.90  & 108.6\\\\\n",
       "\t C     & 23    & 25    & 1.97  & 101.4\\\\\n",
       "\t C     & 24    & 19    & 1.83  & 106.8\\\\\n",
       "\t C     & 25    & 24    & 1.94  & 110.6\\\\\n",
       "\\end{tabular}\n"
      ],
      "text/markdown": [
       "\n",
       "| Team | JerseyNo | Age | Height | Weight |\n",
       "|---|---|---|---|---|\n",
       "| A    |  1   |  4   | 1.19 | 53.1 |\n",
       "| A    |  2   |  6   | 1.25 | 48.2 |\n",
       "| A    |  3   |  7   | 1.28 | 48.4 |\n",
       "| A    |  4   |  4   | 1.26 | 48.4 |\n",
       "| A    |  5   |  4   | 1.22 | 54.6 |\n",
       "| A    |  6   |  6   | 1.23 | 49.0 |\n",
       "| A    |  7   |  4   | 1.23 | 50.0 |\n",
       "| A    |  8   |  7   | 1.33 | 51.1 |\n",
       "| A    |  9   |  7   | 1.20 | 56.0 |\n",
       "| A    | 10   |  7   | 1.26 | 60.6 |\n",
       "| A    | 11   |  5   | 1.26 | 58.6 |\n",
       "| A    | 12   |  6   | 1.39 | 58.4 |\n",
       "| A    | 13   |  7   | 1.27 | 55.3 |\n",
       "| A    | 14   |  7   | 1.26 | 50.5 |\n",
       "| A    | 15   |  4   | 1.20 | 45.7 |\n",
       "| A    | 16   |  5   | 1.28 | 65.2 |\n",
       "| A    | 17   |  4   | 1.19 | 41.7 |\n",
       "| A    | 18   |  7   | 1.25 | 57.1 |\n",
       "| A    | 19   |  5   | 1.25 | 55.1 |\n",
       "| A    | 20   |  7   | 1.32 | 54.8 |\n",
       "| A    | 21   |  4   | 1.16 | 47.2 |\n",
       "| A    | 22   |  7   | 1.27 | 53.1 |\n",
       "| A    | 23   |  6   | 1.28 | 51.2 |\n",
       "| A    | 24   |  6   | 1.34 | 55.0 |\n",
       "| A    | 25   |  4   | 1.21 | 57.1 |\n",
       "| B    |  1   | 12   | 1.60 | 73.4 |\n",
       "| B    |  2   | 12   | 1.58 | 79.6 |\n",
       "| B    |  3   | 10   | 1.43 | 80.3 |\n",
       "| B    |  4   | 13   | 1.55 | 79.8 |\n",
       "| B    |  5   | 13   | 1.61 | 74.5 |\n",
       "| ... | ... | ... | ... | ... |\n",
       "| B     | 21    | 11    | 1.63  |  81.5 |\n",
       "| B     | 22    | 14    | 1.64  |  83.5 |\n",
       "| B     | 23    | 11    | 1.52  |  80.7 |\n",
       "| B     | 24    | 10    | 1.48  |  78.3 |\n",
       "| B     | 25    | 14    | 1.71  |  74.9 |\n",
       "| C     |  1    | 18    | 1.80  |  99.1 |\n",
       "| C     |  2    | 25    | 2.04  | 110.2 |\n",
       "| C     |  3    | 23    | 1.86  | 106.8 |\n",
       "| C     |  4    | 24    | 2.01  | 103.2 |\n",
       "| C     |  5    | 25    | 1.91  | 104.4 |\n",
       "| C     |  6    | 24    | 2.04  | 110.0 |\n",
       "| C     |  7    | 24    | 1.94  | 108.0 |\n",
       "| C     |  8    | 20    | 1.88  |  97.2 |\n",
       "| C     |  9    | 24    | 1.92  | 111.1 |\n",
       "| C     | 10    | 22    | 1.86  |  99.7 |\n",
       "| C     | 11    | 18    | 1.73  |  96.1 |\n",
       "| C     | 12    | 19    | 1.83  |  96.4 |\n",
       "| C     | 13    | 24    | 2.00  | 107.6 |\n",
       "| C     | 14    | 23    | 1.94  | 103.6 |\n",
       "| C     | 15    | 21    | 1.90  | 118.1 |\n",
       "| C     | 16    | 21    | 1.88  |  97.5 |\n",
       "| C     | 17    | 19    | 1.76  |  90.2 |\n",
       "| C     | 18    | 19    | 1.86  | 112.5 |\n",
       "| C     | 19    | 20    | 1.85  | 105.6 |\n",
       "| C     | 20    | 24    | 2.05  | 110.6 |\n",
       "| C     | 21    | 25    | 1.91  | 108.4 |\n",
       "| C     | 22    | 24    | 1.90  | 108.6 |\n",
       "| C     | 23    | 25    | 1.97  | 101.4 |\n",
       "| C     | 24    | 19    | 1.83  | 106.8 |\n",
       "| C     | 25    | 24    | 1.94  | 110.6 |\n",
       "\n"
      ],
      "text/plain": [
       "    Team JerseyNo Age Height Weight\n",
       "1   A     1        4  1.19   53.1  \n",
       "2   A     2        6  1.25   48.2  \n",
       "3   A     3        7  1.28   48.4  \n",
       "4   A     4        4  1.26   48.4  \n",
       "5   A     5        4  1.22   54.6  \n",
       "6   A     6        6  1.23   49.0  \n",
       "7   A     7        4  1.23   50.0  \n",
       "8   A     8        7  1.33   51.1  \n",
       "9   A     9        7  1.20   56.0  \n",
       "10  A    10        7  1.26   60.6  \n",
       "11  A    11        5  1.26   58.6  \n",
       "12  A    12        6  1.39   58.4  \n",
       "13  A    13        7  1.27   55.3  \n",
       "14  A    14        7  1.26   50.5  \n",
       "15  A    15        4  1.20   45.7  \n",
       "16  A    16        5  1.28   65.2  \n",
       "17  A    17        4  1.19   41.7  \n",
       "18  A    18        7  1.25   57.1  \n",
       "19  A    19        5  1.25   55.1  \n",
       "20  A    20        7  1.32   54.8  \n",
       "21  A    21        4  1.16   47.2  \n",
       "22  A    22        7  1.27   53.1  \n",
       "23  A    23        6  1.28   51.2  \n",
       "24  A    24        6  1.34   55.0  \n",
       "25  A    25        4  1.21   57.1  \n",
       "26  B     1       12  1.60   73.4  \n",
       "27  B     2       12  1.58   79.6  \n",
       "28  B     3       10  1.43   80.3  \n",
       "29  B     4       13  1.55   79.8  \n",
       "30  B     5       13  1.61   74.5  \n",
       "... ...  ...      ... ...    ...   \n",
       "46  B    21       11  1.63    81.5 \n",
       "47  B    22       14  1.64    83.5 \n",
       "48  B    23       11  1.52    80.7 \n",
       "49  B    24       10  1.48    78.3 \n",
       "50  B    25       14  1.71    74.9 \n",
       "51  C     1       18  1.80    99.1 \n",
       "52  C     2       25  2.04   110.2 \n",
       "53  C     3       23  1.86   106.8 \n",
       "54  C     4       24  2.01   103.2 \n",
       "55  C     5       25  1.91   104.4 \n",
       "56  C     6       24  2.04   110.0 \n",
       "57  C     7       24  1.94   108.0 \n",
       "58  C     8       20  1.88    97.2 \n",
       "59  C     9       24  1.92   111.1 \n",
       "60  C    10       22  1.86    99.7 \n",
       "61  C    11       18  1.73    96.1 \n",
       "62  C    12       19  1.83    96.4 \n",
       "63  C    13       24  2.00   107.6 \n",
       "64  C    14       23  1.94   103.6 \n",
       "65  C    15       21  1.90   118.1 \n",
       "66  C    16       21  1.88    97.5 \n",
       "67  C    17       19  1.76    90.2 \n",
       "68  C    18       19  1.86   112.5 \n",
       "69  C    19       20  1.85   105.6 \n",
       "70  C    20       24  2.05   110.6 \n",
       "71  C    21       25  1.91   108.4 \n",
       "72  C    22       24  1.90   108.6 \n",
       "73  C    23       25  1.97   101.4 \n",
       "74  C    24       19  1.83   106.8 \n",
       "75  C    25       24  1.94   110.6 "
      ]
     },
     "metadata": {},
     "output_type": "display_data"
    }
   ],
   "source": [
    "puck = read.table('HockeyData.txt', head = TRUE)\n",
    "puck"
   ]
  },
  {
   "cell_type": "markdown",
   "id": "348c6567",
   "metadata": {},
   "source": [
    "The goal of this is to perform an ANOVA on the heights of the players on each team: \n",
    "\n",
    "A: Canucks\\\n",
    "B: Oilers\\\n",
    "C: Calgary Flames (home grown)\n",
    "\n",
    "So let's get the table ready by first saying what the ANOVA is (in this case it is how teams and heights vary)"
   ]
  },
  {
   "cell_type": "code",
   "execution_count": 2,
   "id": "04285944",
   "metadata": {},
   "outputs": [
    {
     "data": {
      "text/html": [
       "<ol class=list-inline>\n",
       "\t<li>'Team'</li>\n",
       "\t<li>'JerseyNo'</li>\n",
       "\t<li>'Age'</li>\n",
       "\t<li>'Height'</li>\n",
       "\t<li>'Weight'</li>\n",
       "</ol>\n"
      ],
      "text/latex": [
       "\\begin{enumerate*}\n",
       "\\item 'Team'\n",
       "\\item 'JerseyNo'\n",
       "\\item 'Age'\n",
       "\\item 'Height'\n",
       "\\item 'Weight'\n",
       "\\end{enumerate*}\n"
      ],
      "text/markdown": [
       "1. 'Team'\n",
       "2. 'JerseyNo'\n",
       "3. 'Age'\n",
       "4. 'Height'\n",
       "5. 'Weight'\n",
       "\n",
       "\n"
      ],
      "text/plain": [
       "[1] \"Team\"     \"JerseyNo\" \"Age\"      \"Height\"   \"Weight\"  "
      ]
     },
     "metadata": {},
     "output_type": "display_data"
    }
   ],
   "source": [
    "attach(puck)\n",
    "names(puck)\n",
    "model = lm(Height ∼ Team)"
   ]
  },
  {
   "cell_type": "markdown",
   "id": "d3a57f66",
   "metadata": {},
   "source": [
    "NOTE: The response variable is height and we are comparing that with respect to explanatory variable team, which are either the Canucks, the Oilers, or the Flames.\n",
    "\n",
    "We will use the `aov()` command. While there is a `ANOVA()` command, it sucks, so stick to `aov`."
   ]
  },
  {
   "cell_type": "code",
   "execution_count": 5,
   "id": "02481bdb",
   "metadata": {},
   "outputs": [
    {
     "data": {
      "text/plain": [
       "            Df Sum Sq Mean Sq F value Pr(>F)    \n",
       "Team         2  5.271  2.6353   569.4 <2e-16 ***\n",
       "Residuals   72  0.333  0.0046                   \n",
       "---\n",
       "Signif. codes:  0 '***' 0.001 '**' 0.01 '*' 0.05 '.' 0.1 ' ' 1"
      ]
     },
     "metadata": {},
     "output_type": "display_data"
    }
   ],
   "source": [
    "fit = aov(model)\n",
    "summary(fit)"
   ]
  },
  {
   "cell_type": "markdown",
   "id": "812c11bc",
   "metadata": {},
   "source": [
    "As you can see, the evidence to reject is OVERWHELMINGLY large. Like the p-value here is $2*10^{-16}$ which is EXTREMLY small compared to 0.05 (the default we use) so yeah, the heights are definetly different. \n",
    "\n",
    "But you're a stickler, what is the F-Value you ask? Well, we have: \n",
    "\n",
    "$$\n",
    "k = 3 teams\\\\\n",
    "n = 25+25+25\\\\\n",
    "Numerator = k-1 = 2\\\\\n",
    "Denominator = n-k = 72\n",
    "$$"
   ]
  },
  {
   "cell_type": "code",
   "execution_count": 18,
   "id": "07aedc34",
   "metadata": {},
   "outputs": [
    {
     "data": {
      "text/html": [
       "3.12390744854578"
      ],
      "text/latex": [
       "3.12390744854578"
      ],
      "text/markdown": [
       "3.12390744854578"
      ],
      "text/plain": [
       "[1] 3.123907"
      ]
     },
     "metadata": {},
     "output_type": "display_data"
    }
   ],
   "source": [
    "qf(p=0.05, df1=2, df2=72, lower.tail=FALSE)"
   ]
  },
  {
   "cell_type": "markdown",
   "id": "4bf5059e",
   "metadata": {},
   "source": [
    "Again, it is WELL into the rejection region, so this is pretty true!"
   ]
  },
  {
   "cell_type": "code",
   "execution_count": null,
   "id": "7ff50026",
   "metadata": {},
   "outputs": [],
   "source": []
  }
 ],
 "metadata": {
  "kernelspec": {
   "display_name": "R",
   "language": "R",
   "name": "ir"
  },
  "language_info": {
   "codemirror_mode": "r",
   "file_extension": ".r",
   "mimetype": "text/x-r-source",
   "name": "R",
   "pygments_lexer": "r",
   "version": "3.6.1"
  }
 },
 "nbformat": 4,
 "nbformat_minor": 5
}
