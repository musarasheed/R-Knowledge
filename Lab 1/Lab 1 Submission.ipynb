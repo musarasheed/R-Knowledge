{
 "cells": [
  {
   "cell_type": "markdown",
   "id": "4c4b0526",
   "metadata": {},
   "source": [
    "# Part 1\n",
    "## Create a matrix\n",
    "\n",
    "Create a matrix with 3 rows and 5 columns such that it contains the numbers $1, 5, 9, 13, 17, …, \n",
    "57$. Make sure the numbers are increasing column-wise; ie, $5$ should be in the first column. Use \n",
    "the seq( ) function to generate the numbers. Don’t type them out by hand!\n"
   ]
  },
  {
   "cell_type": "code",
   "execution_count": 1,
   "id": "d3636ef3",
   "metadata": {},
   "outputs": [
    {
     "data": {
      "text/html": [
       "<ol class=list-inline>\n",
       "\t<li>1</li>\n",
       "\t<li>5</li>\n",
       "\t<li>9</li>\n",
       "\t<li>13</li>\n",
       "\t<li>17</li>\n",
       "\t<li>21</li>\n",
       "\t<li>25</li>\n",
       "\t<li>29</li>\n",
       "\t<li>33</li>\n",
       "\t<li>37</li>\n",
       "\t<li>41</li>\n",
       "\t<li>45</li>\n",
       "\t<li>49</li>\n",
       "\t<li>53</li>\n",
       "\t<li>57</li>\n",
       "</ol>\n"
      ],
      "text/latex": [
       "\\begin{enumerate*}\n",
       "\\item 1\n",
       "\\item 5\n",
       "\\item 9\n",
       "\\item 13\n",
       "\\item 17\n",
       "\\item 21\n",
       "\\item 25\n",
       "\\item 29\n",
       "\\item 33\n",
       "\\item 37\n",
       "\\item 41\n",
       "\\item 45\n",
       "\\item 49\n",
       "\\item 53\n",
       "\\item 57\n",
       "\\end{enumerate*}\n"
      ],
      "text/markdown": [
       "1. 1\n",
       "2. 5\n",
       "3. 9\n",
       "4. 13\n",
       "5. 17\n",
       "6. 21\n",
       "7. 25\n",
       "8. 29\n",
       "9. 33\n",
       "10. 37\n",
       "11. 41\n",
       "12. 45\n",
       "13. 49\n",
       "14. 53\n",
       "15. 57\n",
       "\n",
       "\n"
      ],
      "text/plain": [
       " [1]  1  5  9 13 17 21 25 29 33 37 41 45 49 53 57"
      ]
     },
     "metadata": {},
     "output_type": "display_data"
    },
    {
     "data": {
      "text/html": [
       "<table>\n",
       "<tbody>\n",
       "\t<tr><td> 1</td><td>21</td><td>41</td></tr>\n",
       "\t<tr><td> 5</td><td>25</td><td>45</td></tr>\n",
       "\t<tr><td> 9</td><td>29</td><td>49</td></tr>\n",
       "\t<tr><td>13</td><td>33</td><td>53</td></tr>\n",
       "\t<tr><td>17</td><td>37</td><td>57</td></tr>\n",
       "</tbody>\n",
       "</table>\n"
      ],
      "text/latex": [
       "\\begin{tabular}{lll}\n",
       "\t  1 & 21 & 41\\\\\n",
       "\t  5 & 25 & 45\\\\\n",
       "\t  9 & 29 & 49\\\\\n",
       "\t 13 & 33 & 53\\\\\n",
       "\t 17 & 37 & 57\\\\\n",
       "\\end{tabular}\n"
      ],
      "text/markdown": [
       "\n",
       "|  1 | 21 | 41 |\n",
       "|  5 | 25 | 45 |\n",
       "|  9 | 29 | 49 |\n",
       "| 13 | 33 | 53 |\n",
       "| 17 | 37 | 57 |\n",
       "\n"
      ],
      "text/plain": [
       "     [,1] [,2] [,3]\n",
       "[1,]  1   21   41  \n",
       "[2,]  5   25   45  \n",
       "[3,]  9   29   49  \n",
       "[4,] 13   33   53  \n",
       "[5,] 17   37   57  "
      ]
     },
     "metadata": {},
     "output_type": "display_data"
    }
   ],
   "source": [
    "vec1 = seq(1, 57, by = 4)\n",
    "vec1\n",
    "mat1 = matrix(vec1, ncol = 3, nrow = 5)\n",
    "mat1"
   ]
  },
  {
   "cell_type": "code",
   "execution_count": 12,
   "id": "7389e52f",
   "metadata": {},
   "outputs": [
    {
     "data": {
      "text/html": [
       "<table>\n",
       "<tbody>\n",
       "\t<tr><td>1 </td><td>13</td><td>25</td><td>37</td><td>49</td></tr>\n",
       "\t<tr><td>5 </td><td>17</td><td>29</td><td>41</td><td>53</td></tr>\n",
       "\t<tr><td>9 </td><td>21</td><td>33</td><td>45</td><td>57</td></tr>\n",
       "</tbody>\n",
       "</table>\n"
      ],
      "text/latex": [
       "\\begin{tabular}{lllll}\n",
       "\t 1  & 13 & 25 & 37 & 49\\\\\n",
       "\t 5  & 17 & 29 & 41 & 53\\\\\n",
       "\t 9  & 21 & 33 & 45 & 57\\\\\n",
       "\\end{tabular}\n"
      ],
      "text/markdown": [
       "\n",
       "| 1  | 13 | 25 | 37 | 49 |\n",
       "| 5  | 17 | 29 | 41 | 53 |\n",
       "| 9  | 21 | 33 | 45 | 57 |\n",
       "\n"
      ],
      "text/plain": [
       "     [,1] [,2] [,3] [,4] [,5]\n",
       "[1,] 1    13   25   37   49  \n",
       "[2,] 5    17   29   41   53  \n",
       "[3,] 9    21   33   45   57  "
      ]
     },
     "metadata": {},
     "output_type": "display_data"
    }
   ],
   "source": [
    "data = seq(1, 57, by=4)\n",
    "matrix(data, nrow = 3, ncol = 5)"
   ]
  },
  {
   "cell_type": "markdown",
   "id": "f5dad160",
   "metadata": {},
   "source": [
    "# Part 2\n",
    "## Earthquake Dataset\n",
    "\n",
    "In R, ‘nlme’ is a library or package containing many useful functions and datasets. We will focus \n",
    "on using one dataset inside this library, called Earthquake. In the R console, type:\n",
    "```\n",
    "library(nlme)\n",
    "Earthquake\n",
    "str(Earthquake)\n",
    "?Earthquake\n",
    "```"
   ]
  },
  {
   "cell_type": "code",
   "execution_count": 26,
   "id": "5c64b002",
   "metadata": {},
   "outputs": [
    {
     "data": {
      "text/html": [
       "<table>\n",
       "<thead><tr><th></th><th scope=col>Quake</th><th scope=col>Richter</th><th scope=col>distance</th><th scope=col>soil</th><th scope=col>accel</th></tr></thead>\n",
       "<tbody>\n",
       "\t<tr><th scope=row>132</th><td>20   </td><td>5    </td><td>7.5  </td><td>1    </td><td>0.264</td></tr>\n",
       "\t<tr><th scope=row>133</th><td>20   </td><td>5    </td><td>8.8  </td><td>1    </td><td>0.263</td></tr>\n",
       "\t<tr><th scope=row>134</th><td>20   </td><td>5    </td><td>8.9  </td><td>1    </td><td>0.230</td></tr>\n",
       "\t<tr><th scope=row>135</th><td>20   </td><td>5    </td><td>9.4  </td><td>1    </td><td>0.147</td></tr>\n",
       "\t<tr><th scope=row>136</th><td>20   </td><td>5    </td><td>9.7  </td><td>1    </td><td>0.286</td></tr>\n",
       "</tbody>\n",
       "</table>\n"
      ],
      "text/latex": [
       "\\begin{tabular}{r|lllll}\n",
       "  & Quake & Richter & distance & soil & accel\\\\\n",
       "\\hline\n",
       "\t132 & 20    & 5     & 7.5   & 1     & 0.264\\\\\n",
       "\t133 & 20    & 5     & 8.8   & 1     & 0.263\\\\\n",
       "\t134 & 20    & 5     & 8.9   & 1     & 0.230\\\\\n",
       "\t135 & 20    & 5     & 9.4   & 1     & 0.147\\\\\n",
       "\t136 & 20    & 5     & 9.7   & 1     & 0.286\\\\\n",
       "\\end{tabular}\n"
      ],
      "text/markdown": [
       "\n",
       "| <!--/--> | Quake | Richter | distance | soil | accel |\n",
       "|---|---|---|---|---|---|\n",
       "| 132 | 20    | 5     | 7.5   | 1     | 0.264 |\n",
       "| 133 | 20    | 5     | 8.8   | 1     | 0.263 |\n",
       "| 134 | 20    | 5     | 8.9   | 1     | 0.230 |\n",
       "| 135 | 20    | 5     | 9.4   | 1     | 0.147 |\n",
       "| 136 | 20    | 5     | 9.7   | 1     | 0.286 |\n",
       "\n"
      ],
      "text/plain": [
       "    Quake Richter distance soil accel\n",
       "132 20    5       7.5      1    0.264\n",
       "133 20    5       8.8      1    0.263\n",
       "134 20    5       8.9      1    0.230\n",
       "135 20    5       9.4      1    0.147\n",
       "136 20    5       9.7      1    0.286"
      ]
     },
     "metadata": {},
     "output_type": "display_data"
    },
    {
     "name": "stdout",
     "output_type": "stream",
     "text": [
      "Classes 'nfnGroupedData', 'nfGroupedData', 'groupedData' and 'data.frame':\t182 obs. of  5 variables:\n",
      " $ Quake   : Ord.factor w/ 23 levels \"20\"<\"16\"<\"14\"<..: 1 1 1 1 1 1 1 1 1 1 ...\n",
      " $ Richter : num  5 5 5 5 5 5 5 5 5 5 ...\n",
      " $ distance: num  7.5 8.8 8.9 9.4 9.7 9.7 10.5 10.5 12 12.2 ...\n",
      " $ soil    : Factor w/ 2 levels \"0\",\"1\": 2 2 2 2 2 2 2 2 2 2 ...\n",
      " $ accel   : num  0.264 0.263 0.23 0.147 0.286 0.157 0.237 0.133 0.055 0.097 ...\n",
      " - attr(*, \"formula\")=Class 'formula'  language accel ~ distance | Quake\n",
      "  .. ..- attr(*, \".Environment\")=<environment: R_GlobalEnv> \n",
      " - attr(*, \"labels\")=List of 2\n",
      "  ..$ x: chr \"Distance from epicenter\"\n",
      "  ..$ y: chr \"acceleration\"\n",
      " - attr(*, \"units\")=List of 2\n",
      "  ..$ x: chr \"(km)\"\n",
      "  ..$ y: chr \"(g)\"\n"
     ]
    }
   ],
   "source": [
    "library(nlme)\n",
    "Earthquake[1:5,]\n",
    "?Earthquake\n",
    "str(Earthquake)"
   ]
  },
  {
   "cell_type": "code",
   "execution_count": 27,
   "id": "a194af8d",
   "metadata": {},
   "outputs": [
    {
     "ename": "ERROR",
     "evalue": "Error in `[.data.frame`(Earthquake, distance): object 'distance' not found\n",
     "output_type": "error",
     "traceback": [
      "Error in `[.data.frame`(Earthquake, distance): object 'distance' not found\nTraceback:\n",
      "1. mean(Earthquake[distance])",
      "2. Earthquake[distance]",
      "3. `[.groupedData`(Earthquake, distance)",
      "4. NextMethod()",
      "5. `[.data.frame`(Earthquake, distance)"
     ]
    }
   ],
   "source": [
    "mean(Earthquake[distance])"
   ]
  },
  {
   "cell_type": "code",
   "execution_count": 34,
   "id": "4e80ab8d",
   "metadata": {},
   "outputs": [
    {
     "data": {
      "text/html": [
       "45.6032967032967"
      ],
      "text/latex": [
       "45.6032967032967"
      ],
      "text/markdown": [
       "45.6032967032967"
      ],
      "text/plain": [
       "[1] 45.6033"
      ]
     },
     "metadata": {},
     "output_type": "display_data"
    }
   ],
   "source": [
    "mean(Earthquake[3])"
   ]
  },
  {
   "cell_type": "code",
   "execution_count": 57,
   "id": "8e171941",
   "metadata": {},
   "outputs": [
    {
     "data": {
      "text/plain": [
       "   Min. 1st Qu.  Median    Mean 3rd Qu.    Max. \n",
       "   0.50   11.32   23.40   45.60   47.55  370.00 "
      ]
     },
     "metadata": {},
     "output_type": "display_data"
    }
   ],
   "source": [
    "summary(Earthquake[3])"
   ]
  },
  {
   "attachments": {
    "image.png": {
     "image/png": "[encoded data removed]"
    }
   },
   "cell_type": "markdown",
   "id": "472b3127",
   "metadata": {},
   "source": [
    "## Manual Sample Variance of Distance\n",
    "![image.png](attachment:image.png)"
   ]
  },
  {
   "cell_type": "code",
   "execution_count": 99,
   "id": "6c8ce6af",
   "metadata": {},
   "outputs": [
    {
     "name": "stdout",
     "output_type": "stream",
     "text": [
      "[1] 3865.117\n"
     ]
    }
   ],
   "source": [
    "n = length(Earthquake[3])\n",
    "avg = mean(Earthquake[3])\n",
    "xi = Earthquake[3]\n",
    "\n",
    "print((1/(n-1))*sum((xi-avg)^2))"
   ]
  },
  {
   "cell_type": "code",
   "execution_count": 52,
   "id": "1dc36bb2",
   "metadata": {},
   "outputs": [
    {
     "data": {
      "text/html": [
       "3865.11667415457"
      ],
      "text/latex": [
       "3865.11667415457"
      ],
      "text/markdown": [
       "3865.11667415457"
      ],
      "text/plain": [
       "[1] 3865.117"
      ]
     },
     "metadata": {},
     "output_type": "display_data"
    }
   ],
   "source": [
    "var(xi)"
   ]
  },
  {
   "cell_type": "markdown",
   "id": "1182f015",
   "metadata": {},
   "source": [
    "# Part 3\n",
    "## Acceleration\n",
    "Generate a histogram of accel and describe the shape of the histogram. Calculate the five\u0002number summary for accel."
   ]
  },
  {
   "cell_type": "code",
   "execution_count": 55,
   "id": "d6ce46b1",
   "metadata": {},
   "outputs": [
    {
     "data": {
      "image/png": "[encoded data removed]",
      "text/plain": [
       "Plot with title \"Histogram of data\""
      ]
     },
     "metadata": {},
     "output_type": "display_data"
    }
   ],
   "source": [
    "data = Earthquake[5]\n",
    "hist(data)"
   ]
  },
  {
   "cell_type": "code",
   "execution_count": 58,
   "id": "9e640392",
   "metadata": {},
   "outputs": [
    {
     "data": {
      "text/plain": [
       "   Min. 1st Qu.  Median    Mean 3rd Qu.    Max. \n",
       "0.00300 0.04425 0.11300 0.15422 0.21925 0.81000 "
      ]
     },
     "metadata": {},
     "output_type": "display_data"
    }
   ],
   "source": [
    "summary(data)"
   ]
  },
  {
   "cell_type": "markdown",
   "id": "b78a9913",
   "metadata": {},
   "source": [
    "# Part 4\n",
    "## Side by side boxplots\n",
    "Generate side-by-side boxplots, comparing Richter to soil. Does it seem that the Richter\n",
    "intensity differs by soil type?\n"
   ]
  },
  {
   "cell_type": "code",
   "execution_count": 83,
   "id": "1693ceef",
   "metadata": {},
   "outputs": [
    {
     "data": {
      "image/png": "[encoded data removed]",
      "text/plain": [
       "Plot with title \"Soil Type 1\""
      ]
     },
     "metadata": {},
     "output_type": "display_data"
    }
   ],
   "source": [
    "options(repr.plot.width=5, repr.plot.height=5)\n",
    "\n",
    "soil0 = Earthquake[Earthquake[4]==0,2] #Soil type is col 4\n",
    "soil1 = Earthquake[Earthquake[4]==1,2] #Richter is col 2\n",
    "\n",
    "par(mfrow = c(1,2))\n",
    "boxplot(soil0, main = \"Soil Type 0\", ylab = \"Richter Scale\")\n",
    "boxplot(soil1, main = \"Soil Type 1\", ylab = \"Richter Scale\")"
   ]
  },
  {
   "cell_type": "code",
   "execution_count": 78,
   "id": "693d52fd",
   "metadata": {},
   "outputs": [
    {
     "data": {
      "text/html": [
       "<table>\n",
       "<thead><tr><th></th><th scope=col>Quake</th><th scope=col>Richter</th><th scope=col>distance</th><th scope=col>soil</th><th scope=col>accel</th></tr></thead>\n",
       "<tbody>\n",
       "\t<tr><th scope=row>69</th><td>14   </td><td>5.2  </td><td> 17.0</td><td>0    </td><td>0.011</td></tr>\n",
       "\t<tr><th scope=row>12</th><td>3    </td><td>5.3  </td><td>  8.0</td><td>0    </td><td>0.127</td></tr>\n",
       "\t<tr><th scope=row>35</th><td>8    </td><td>5.3  </td><td> 19.0</td><td>0    </td><td>0.086</td></tr>\n",
       "\t<tr><th scope=row>36</th><td>8    </td><td>5.3  </td><td> 21.0</td><td>0    </td><td>0.179</td></tr>\n",
       "\t<tr><th scope=row>67</th><td>13   </td><td>5.6  </td><td> 50.0</td><td>0    </td><td>0.031</td></tr>\n",
       "\t<tr><th scope=row>83</th><td>18   </td><td>5.8  </td><td>  1.2</td><td>0    </td><td>0.420</td></tr>\n",
       "\t<tr><th scope=row>84</th><td>18   </td><td>5.8  </td><td>  1.6</td><td>0    </td><td>0.230</td></tr>\n",
       "\t<tr><th scope=row>85</th><td>18   </td><td>5.8  </td><td>  9.1</td><td>0    </td><td>0.130</td></tr>\n",
       "\t<tr><th scope=row>73</th><td>15   </td><td>6.0  </td><td>  8.0</td><td>0    </td><td>0.110</td></tr>\n",
       "\t<tr><th scope=row>74</th><td>15   </td><td>6.0  </td><td> 32.0</td><td>0    </td><td>0.040</td></tr>\n",
       "\t<tr><th scope=row>13</th><td>4    </td><td>6.1  </td><td> 16.1</td><td>0    </td><td>0.411</td></tr>\n",
       "\t<tr><th scope=row>14</th><td>4    </td><td>6.1  </td><td> 63.6</td><td>0    </td><td>0.018</td></tr>\n",
       "\t<tr><th scope=row>94</th><td>19   </td><td>6.5  </td><td> 23.5</td><td>0    </td><td>0.170</td></tr>\n",
       "\t<tr><th scope=row>95</th><td>19   </td><td>6.5  </td><td> 26.0</td><td>0    </td><td>0.210</td></tr>\n",
       "\t<tr><th scope=row>22</th><td>5    </td><td>6.6  </td><td>105.0</td><td>0    </td><td>0.018</td></tr>\n",
       "\t<tr><th scope=row>23</th><td>5    </td><td>6.6  </td><td>122.0</td><td>0    </td><td>0.048</td></tr>\n",
       "\t<tr><th scope=row>24</th><td>5    </td><td>6.6  </td><td>141.0</td><td>0    </td><td>0.011</td></tr>\n",
       "\t<tr><th scope=row>25</th><td>5    </td><td>6.6  </td><td>200.0</td><td>0    </td><td>0.007</td></tr>\n",
       "\t<tr><th scope=row>40</th><td>9    </td><td>6.6  </td><td> 17.0</td><td>0    </td><td>0.374</td></tr>\n",
       "\t<tr><th scope=row>41</th><td>9    </td><td>6.6  </td><td> 19.6</td><td>0    </td><td>0.200</td></tr>\n",
       "\t<tr><th scope=row>42</th><td>9    </td><td>6.6  </td><td> 20.2</td><td>0    </td><td>0.147</td></tr>\n",
       "\t<tr><th scope=row>43</th><td>9    </td><td>6.6  </td><td> 21.1</td><td>0    </td><td>0.188</td></tr>\n",
       "\t<tr><th scope=row>44</th><td>9    </td><td>6.6  </td><td> 21.9</td><td>0    </td><td>0.204</td></tr>\n",
       "\t<tr><th scope=row>45</th><td>9    </td><td>6.6  </td><td> 24.2</td><td>0    </td><td>0.335</td></tr>\n",
       "\t<tr><th scope=row>46</th><td>9    </td><td>6.6  </td><td> 66.0</td><td>0    </td><td>0.057</td></tr>\n",
       "\t<tr><th scope=row>47</th><td>9    </td><td>6.6  </td><td> 87.0</td><td>0    </td><td>0.021</td></tr>\n",
       "\t<tr><th scope=row>2</th><td>2    </td><td>7.4  </td><td>148.0</td><td>0    </td><td>0.014</td></tr>\n",
       "\t<tr><th scope=row>63</th><td>11   </td><td>7.7  </td><td> 45.0</td><td>0    </td><td>0.110</td></tr>\n",
       "\t<tr><th scope=row>64</th><td>11   </td><td>7.7  </td><td>145.0</td><td>0    </td><td>0.010</td></tr>\n",
       "</tbody>\n",
       "</table>\n"
      ],
      "text/latex": [
       "\\begin{tabular}{r|lllll}\n",
       "  & Quake & Richter & distance & soil & accel\\\\\n",
       "\\hline\n",
       "\t69 & 14    & 5.2   &  17.0 & 0     & 0.011\\\\\n",
       "\t12 & 3     & 5.3   &   8.0 & 0     & 0.127\\\\\n",
       "\t35 & 8     & 5.3   &  19.0 & 0     & 0.086\\\\\n",
       "\t36 & 8     & 5.3   &  21.0 & 0     & 0.179\\\\\n",
       "\t67 & 13    & 5.6   &  50.0 & 0     & 0.031\\\\\n",
       "\t83 & 18    & 5.8   &   1.2 & 0     & 0.420\\\\\n",
       "\t84 & 18    & 5.8   &   1.6 & 0     & 0.230\\\\\n",
       "\t85 & 18    & 5.8   &   9.1 & 0     & 0.130\\\\\n",
       "\t73 & 15    & 6.0   &   8.0 & 0     & 0.110\\\\\n",
       "\t74 & 15    & 6.0   &  32.0 & 0     & 0.040\\\\\n",
       "\t13 & 4     & 6.1   &  16.1 & 0     & 0.411\\\\\n",
       "\t14 & 4     & 6.1   &  63.6 & 0     & 0.018\\\\\n",
       "\t94 & 19    & 6.5   &  23.5 & 0     & 0.170\\\\\n",
       "\t95 & 19    & 6.5   &  26.0 & 0     & 0.210\\\\\n",
       "\t22 & 5     & 6.6   & 105.0 & 0     & 0.018\\\\\n",
       "\t23 & 5     & 6.6   & 122.0 & 0     & 0.048\\\\\n",
       "\t24 & 5     & 6.6   & 141.0 & 0     & 0.011\\\\\n",
       "\t25 & 5     & 6.6   & 200.0 & 0     & 0.007\\\\\n",
       "\t40 & 9     & 6.6   &  17.0 & 0     & 0.374\\\\\n",
       "\t41 & 9     & 6.6   &  19.6 & 0     & 0.200\\\\\n",
       "\t42 & 9     & 6.6   &  20.2 & 0     & 0.147\\\\\n",
       "\t43 & 9     & 6.6   &  21.1 & 0     & 0.188\\\\\n",
       "\t44 & 9     & 6.6   &  21.9 & 0     & 0.204\\\\\n",
       "\t45 & 9     & 6.6   &  24.2 & 0     & 0.335\\\\\n",
       "\t46 & 9     & 6.6   &  66.0 & 0     & 0.057\\\\\n",
       "\t47 & 9     & 6.6   &  87.0 & 0     & 0.021\\\\\n",
       "\t2 & 2     & 7.4   & 148.0 & 0     & 0.014\\\\\n",
       "\t63 & 11    & 7.7   &  45.0 & 0     & 0.110\\\\\n",
       "\t64 & 11    & 7.7   & 145.0 & 0     & 0.010\\\\\n",
       "\\end{tabular}\n"
      ],
      "text/markdown": [
       "\n",
       "| <!--/--> | Quake | Richter | distance | soil | accel |\n",
       "|---|---|---|---|---|---|\n",
       "| 69 | 14    | 5.2   |  17.0 | 0     | 0.011 |\n",
       "| 12 | 3     | 5.3   |   8.0 | 0     | 0.127 |\n",
       "| 35 | 8     | 5.3   |  19.0 | 0     | 0.086 |\n",
       "| 36 | 8     | 5.3   |  21.0 | 0     | 0.179 |\n",
       "| 67 | 13    | 5.6   |  50.0 | 0     | 0.031 |\n",
       "| 83 | 18    | 5.8   |   1.2 | 0     | 0.420 |\n",
       "| 84 | 18    | 5.8   |   1.6 | 0     | 0.230 |\n",
       "| 85 | 18    | 5.8   |   9.1 | 0     | 0.130 |\n",
       "| 73 | 15    | 6.0   |   8.0 | 0     | 0.110 |\n",
       "| 74 | 15    | 6.0   |  32.0 | 0     | 0.040 |\n",
       "| 13 | 4     | 6.1   |  16.1 | 0     | 0.411 |\n",
       "| 14 | 4     | 6.1   |  63.6 | 0     | 0.018 |\n",
       "| 94 | 19    | 6.5   |  23.5 | 0     | 0.170 |\n",
       "| 95 | 19    | 6.5   |  26.0 | 0     | 0.210 |\n",
       "| 22 | 5     | 6.6   | 105.0 | 0     | 0.018 |\n",
       "| 23 | 5     | 6.6   | 122.0 | 0     | 0.048 |\n",
       "| 24 | 5     | 6.6   | 141.0 | 0     | 0.011 |\n",
       "| 25 | 5     | 6.6   | 200.0 | 0     | 0.007 |\n",
       "| 40 | 9     | 6.6   |  17.0 | 0     | 0.374 |\n",
       "| 41 | 9     | 6.6   |  19.6 | 0     | 0.200 |\n",
       "| 42 | 9     | 6.6   |  20.2 | 0     | 0.147 |\n",
       "| 43 | 9     | 6.6   |  21.1 | 0     | 0.188 |\n",
       "| 44 | 9     | 6.6   |  21.9 | 0     | 0.204 |\n",
       "| 45 | 9     | 6.6   |  24.2 | 0     | 0.335 |\n",
       "| 46 | 9     | 6.6   |  66.0 | 0     | 0.057 |\n",
       "| 47 | 9     | 6.6   |  87.0 | 0     | 0.021 |\n",
       "| 2 | 2     | 7.4   | 148.0 | 0     | 0.014 |\n",
       "| 63 | 11    | 7.7   |  45.0 | 0     | 0.110 |\n",
       "| 64 | 11    | 7.7   | 145.0 | 0     | 0.010 |\n",
       "\n"
      ],
      "text/plain": [
       "   Quake Richter distance soil accel\n",
       "69 14    5.2      17.0    0    0.011\n",
       "12 3     5.3       8.0    0    0.127\n",
       "35 8     5.3      19.0    0    0.086\n",
       "36 8     5.3      21.0    0    0.179\n",
       "67 13    5.6      50.0    0    0.031\n",
       "83 18    5.8       1.2    0    0.420\n",
       "84 18    5.8       1.6    0    0.230\n",
       "85 18    5.8       9.1    0    0.130\n",
       "73 15    6.0       8.0    0    0.110\n",
       "74 15    6.0      32.0    0    0.040\n",
       "13 4     6.1      16.1    0    0.411\n",
       "14 4     6.1      63.6    0    0.018\n",
       "94 19    6.5      23.5    0    0.170\n",
       "95 19    6.5      26.0    0    0.210\n",
       "22 5     6.6     105.0    0    0.018\n",
       "23 5     6.6     122.0    0    0.048\n",
       "24 5     6.6     141.0    0    0.011\n",
       "25 5     6.6     200.0    0    0.007\n",
       "40 9     6.6      17.0    0    0.374\n",
       "41 9     6.6      19.6    0    0.200\n",
       "42 9     6.6      20.2    0    0.147\n",
       "43 9     6.6      21.1    0    0.188\n",
       "44 9     6.6      21.9    0    0.204\n",
       "45 9     6.6      24.2    0    0.335\n",
       "46 9     6.6      66.0    0    0.057\n",
       "47 9     6.6      87.0    0    0.021\n",
       "2  2     7.4     148.0    0    0.014\n",
       "63 11    7.7      45.0    0    0.110\n",
       "64 11    7.7     145.0    0    0.010"
      ]
     },
     "metadata": {},
     "output_type": "display_data"
    }
   ],
   "source": [
    "Earthquake[Earthquake[4]==0,]"
   ]
  },
  {
   "cell_type": "markdown",
   "id": "d411c8bd",
   "metadata": {},
   "source": [
    "# Part 5\n",
    "## Distance and acceleration\n",
    "Generate a plot that illustrates the relationship between distance and accel. Describe the \n",
    "relationship between these two variables. "
   ]
  },
  {
   "cell_type": "code",
   "execution_count": 84,
   "id": "20970226",
   "metadata": {},
   "outputs": [
    {
     "data": {
      "text/html": [
       "<table>\n",
       "<thead><tr><th></th><th scope=col>Quake</th><th scope=col>Richter</th><th scope=col>distance</th><th scope=col>soil</th><th scope=col>accel</th></tr></thead>\n",
       "<tbody>\n",
       "\t<tr><th scope=row>132</th><td>20   </td><td>5    </td><td>7.5  </td><td>1    </td><td>0.264</td></tr>\n",
       "</tbody>\n",
       "</table>\n"
      ],
      "text/latex": [
       "\\begin{tabular}{r|lllll}\n",
       "  & Quake & Richter & distance & soil & accel\\\\\n",
       "\\hline\n",
       "\t132 & 20    & 5     & 7.5   & 1     & 0.264\\\\\n",
       "\\end{tabular}\n"
      ],
      "text/markdown": [
       "\n",
       "| <!--/--> | Quake | Richter | distance | soil | accel |\n",
       "|---|---|---|---|---|---|\n",
       "| 132 | 20    | 5     | 7.5   | 1     | 0.264 |\n",
       "\n"
      ],
      "text/plain": [
       "    Quake Richter distance soil accel\n",
       "132 20    5       7.5      1    0.264"
      ]
     },
     "metadata": {},
     "output_type": "display_data"
    }
   ],
   "source": [
    "Earthquake[1,]"
   ]
  },
  {
   "cell_type": "code",
   "execution_count": 97,
   "id": "aa7c5b68",
   "metadata": {},
   "outputs": [
    {
     "data": {
      "image/png": "[encoded data removed]",
      "text/plain": [
       "Plot with title \"Acceleration vs Distance\""
      ]
     },
     "metadata": {},
     "output_type": "display_data"
    }
   ],
   "source": [
    "d = Earthquake[3]\n",
    "a = Earthquake[5]\n",
    "plot(d,a,main = \"Acceleration vs Distance\", xlab = \"Distance (km)\", ylab = \"Acceleration (m/s^2)\")"
   ]
  },
  {
   "cell_type": "code",
   "execution_count": 93,
   "id": "ebfaaec1",
   "metadata": {
    "scrolled": true
   },
   "outputs": [],
   "source": [
    "?Earthquake"
   ]
  },
  {
   "cell_type": "code",
   "execution_count": 98,
   "id": "f4f2a3bf",
   "metadata": {},
   "outputs": [
    {
     "data": {
      "text/html": [
       "3865.11667415457"
      ],
      "text/latex": [
       "3865.11667415457"
      ],
      "text/markdown": [
       "3865.11667415457"
      ],
      "text/plain": [
       "[1] 3865.117"
      ]
     },
     "metadata": {},
     "output_type": "display_data"
    }
   ],
   "source": [
    "var(Earthquake[3])"
   ]
  },
  {
   "cell_type": "code",
   "execution_count": null,
   "id": "974c7c3c",
   "metadata": {},
   "outputs": [],
   "source": []
  }
 ],
 "metadata": {
  "kernelspec": {
   "display_name": "R",
   "language": "R",
   "name": "ir"
  },
  "language_info": {
   "codemirror_mode": "r",
   "file_extension": ".r",
   "mimetype": "text/x-r-source",
   "name": "R",
   "pygments_lexer": "r",
   "version": "3.6.1"
  }
 },
 "nbformat": 4,
 "nbformat_minor": 5
}
