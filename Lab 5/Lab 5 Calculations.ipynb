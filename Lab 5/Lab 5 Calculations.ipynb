{
 "cells": [
  {
   "cell_type": "code",
   "execution_count": 2,
   "id": "25d4c9d7",
   "metadata": {},
   "outputs": [],
   "source": [
    "options(repr.plot.width=3.5, repr.plot.height=3.5) #Something to help adjust the shape of the plot"
   ]
  },
  {
   "cell_type": "markdown",
   "id": "349c4bc4",
   "metadata": {},
   "source": [
    "# Lab 5 Excercises\n",
    "## By Musa Rasheed\n",
    "\n",
    "Your daily commute to school involves waiting for the bus. After drawing a histogram of the time taken waiting for the bus, you observe that the wait time is Uniformly distributed between 5 and 20 minutes. Let X = wait time (in minutes).\n",
    "\n",
    "# 1: Draw a random sample of size 500, construct a histogram and observe the shape. "
   ]
  },
  {
   "cell_type": "code",
   "execution_count": 3,
   "id": "18b1117a",
   "metadata": {},
   "outputs": [
    {
     "data": {
      "image/png": "[encoded data removed]",
      "text/plain": [
       "Plot with title \"Histogram of X\""
      ]
     },
     "metadata": {},
     "output_type": "display_data"
    }
   ],
   "source": [
    "X = runif(500)\n",
    "hist(X)"
   ]
  },
  {
   "cell_type": "markdown",
   "id": "330485ee",
   "metadata": {},
   "source": [
    "As expected, a relativley flat histogram reminiscent of a uniform distribution. \n",
    "\n",
    "# 2: Draw 1000 samples of size 5, construct a histogram of the sample means, and observe the shape.\n",
    "\n",
    "Let's first draw 5 random numbers from the sample 1000 times: "
   ]
  },
  {
   "cell_type": "code",
   "execution_count": 7,
   "id": "b0b1baab",
   "metadata": {},
   "outputs": [
    {
     "data": {
      "image/png": "[encoded data removed]",
      "text/plain": [
       "Plot with title \"Means of 1000 samples of size 5\""
      ]
     },
     "metadata": {},
     "output_type": "display_data"
    }
   ],
   "source": [
    "means_5 = c()\n",
    "counts = c(1:1000)\n",
    "\n",
    "for (i in counts){\n",
    "    samp = sample(X,5, replace = TRUE)\n",
    "    means_5 = c(means_5, mean(samp))\n",
    "}\n",
    "\n",
    "hist(means_5, main = \"Means of 1000 samples of size 5\", xlab = \"Means\")"
   ]
  },
  {
   "cell_type": "markdown",
   "id": "5e8cd14f",
   "metadata": {},
   "source": [
    "😲 When we took samples of 5 about 1000 times, and plotted the means of those samples, it created what looks to be a normal distribution!\n",
    "\n",
    "# Draw 1000 samples of size 50, construct a histogram of the sample means, and observe the shape.\n"
   ]
  },
  {
   "cell_type": "code",
   "execution_count": 8,
   "id": "7573555a",
   "metadata": {},
   "outputs": [
    {
     "data": {
      "image/png": "[encoded data removed]",
      "text/plain": [
       "Plot with title \"Means of 1000 samples of size 50\""
      ]
     },
     "metadata": {},
     "output_type": "display_data"
    }
   ],
   "source": [
    "means_50 = c()\n",
    "counts = c(1:1000)\n",
    "\n",
    "for (i in counts){\n",
    "    samp = sample(X,50, replace = TRUE)\n",
    "    means_50 = c(means_50, mean(samp))\n",
    "}\n",
    "\n",
    "hist(means_50, main = \"Means of 1000 samples of size 50\", xlab = \"Means\")"
   ]
  },
  {
   "cell_type": "markdown",
   "id": "d7046948",
   "metadata": {},
   "source": [
    "it looks even MORE like a normal distribution!\n",
    "\n",
    "# Compare the center and spread of the two distributions of the sample means.\n",
    "Since these look like normal distributions, let's compare the mean and the standard deviation of the 5 sized sample and the 50 sized sample:"
   ]
  },
  {
   "cell_type": "code",
   "execution_count": 9,
   "id": "e022615d",
   "metadata": {},
   "outputs": [
    {
     "data": {
      "text/html": [
       "<ol class=list-inline>\n",
       "\t<li>'The mean from the 5 sample size is:'</li>\n",
       "\t<li>'0.504'</li>\n",
       "</ol>\n"
      ],
      "text/latex": [
       "\\begin{enumerate*}\n",
       "\\item 'The mean from the 5 sample size is:'\n",
       "\\item '0.504'\n",
       "\\end{enumerate*}\n"
      ],
      "text/markdown": [
       "1. 'The mean from the 5 sample size is:'\n",
       "2. '0.504'\n",
       "\n",
       "\n"
      ],
      "text/plain": [
       "[1] \"The mean from the 5 sample size is:\" \"0.504\"                              "
      ]
     },
     "metadata": {},
     "output_type": "display_data"
    },
    {
     "data": {
      "text/html": [
       "<ol class=list-inline>\n",
       "\t<li>'The Standard Devation from the 5 sample size is:'</li>\n",
       "\t<li>'0.128'</li>\n",
       "</ol>\n"
      ],
      "text/latex": [
       "\\begin{enumerate*}\n",
       "\\item 'The Standard Devation from the 5 sample size is:'\n",
       "\\item '0.128'\n",
       "\\end{enumerate*}\n"
      ],
      "text/markdown": [
       "1. 'The Standard Devation from the 5 sample size is:'\n",
       "2. '0.128'\n",
       "\n",
       "\n"
      ],
      "text/plain": [
       "[1] \"The Standard Devation from the 5 sample size is:\"\n",
       "[2] \"0.128\"                                           "
      ]
     },
     "metadata": {},
     "output_type": "display_data"
    }
   ],
   "source": [
    "c(\"The mean from the 5 sample size is:\",round(mean(means_5),3))\n",
    "c(\"The Standard Devation from the 5 sample size is:\",round(sd(means_5),3))"
   ]
  },
  {
   "cell_type": "code",
   "execution_count": 10,
   "id": "bb71674d",
   "metadata": {},
   "outputs": [
    {
     "data": {
      "text/html": [
       "<ol class=list-inline>\n",
       "\t<li>'The mean from the 50 sample size is:'</li>\n",
       "\t<li>'0.504'</li>\n",
       "</ol>\n"
      ],
      "text/latex": [
       "\\begin{enumerate*}\n",
       "\\item 'The mean from the 50 sample size is:'\n",
       "\\item '0.504'\n",
       "\\end{enumerate*}\n"
      ],
      "text/markdown": [
       "1. 'The mean from the 50 sample size is:'\n",
       "2. '0.504'\n",
       "\n",
       "\n"
      ],
      "text/plain": [
       "[1] \"The mean from the 50 sample size is:\"\n",
       "[2] \"0.504\"                               "
      ]
     },
     "metadata": {},
     "output_type": "display_data"
    },
    {
     "data": {
      "text/html": [
       "<ol class=list-inline>\n",
       "\t<li>'The Standard Devation from the 50 sample size is:'</li>\n",
       "\t<li>'0.042'</li>\n",
       "</ol>\n"
      ],
      "text/latex": [
       "\\begin{enumerate*}\n",
       "\\item 'The Standard Devation from the 50 sample size is:'\n",
       "\\item '0.042'\n",
       "\\end{enumerate*}\n"
      ],
      "text/markdown": [
       "1. 'The Standard Devation from the 50 sample size is:'\n",
       "2. '0.042'\n",
       "\n",
       "\n"
      ],
      "text/plain": [
       "[1] \"The Standard Devation from the 50 sample size is:\"\n",
       "[2] \"0.042\"                                            "
      ]
     },
     "metadata": {},
     "output_type": "display_data"
    }
   ],
   "source": [
    "c(\"The mean from the 50 sample size is:\",round(mean(means_50),3))\n",
    "c(\"The Standard Devation from the 50 sample size is:\",round(sd(means_50),3))"
   ]
  },
  {
   "cell_type": "markdown",
   "id": "ab01f315",
   "metadata": {},
   "source": [
    "While the mean hardly changed (as to be expected as the mean from the sample is supposed to be relativley the same as the mean of the population, thus the means shouldn't change too much) the standrd deviation is 3 times smaller on the sample size of 50 compared to the sample size of only 5!"
   ]
  }
 ],
 "metadata": {
  "kernelspec": {
   "display_name": "R",
   "language": "R",
   "name": "ir"
  },
  "language_info": {
   "codemirror_mode": "r",
   "file_extension": ".r",
   "mimetype": "text/x-r-source",
   "name": "R",
   "pygments_lexer": "r",
   "version": "3.6.1"
  }
 },
 "nbformat": 4,
 "nbformat_minor": 5
}
