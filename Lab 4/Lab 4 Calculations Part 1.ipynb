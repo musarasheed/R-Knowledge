{
 "cells": [
  {
   "cell_type": "code",
   "execution_count": 1,
   "id": "e9877e77",
   "metadata": {},
   "outputs": [],
   "source": [
    "options(repr.plot.width=4, repr.plot.height=4) #Something to modify the size of the plot"
   ]
  },
  {
   "cell_type": "markdown",
   "id": "014b3978",
   "metadata": {},
   "source": [
    "# Question 2: What is the probability that the system fails before 70 hours based on your cdf in Question 1?"
   ]
  },
  {
   "cell_type": "code",
   "execution_count": 2,
   "id": "72b7ac0d",
   "metadata": {},
   "outputs": [],
   "source": [
    "cdf = function(y){(1-exp(-y/80))^3}"
   ]
  },
  {
   "cell_type": "markdown",
   "id": "ac9970c6",
   "metadata": {},
   "source": [
    "This function is the probability that a certain value falls between $0$ and $y$, where $y=70$ according to the question:"
   ]
  },
  {
   "cell_type": "code",
   "execution_count": 3,
   "id": "cbbf5428",
   "metadata": {},
   "outputs": [
    {
     "name": "stdout",
     "output_type": "stream",
     "text": [
      "19.83 %"
     ]
    }
   ],
   "source": [
    "cat(round(cdf(70),4)*100,\"%\")"
   ]
  },
  {
   "cell_type": "markdown",
   "id": "d86697db",
   "metadata": {},
   "source": [
    "Which makes sense given that the means are 80.\n",
    "\n",
    "# Question 3:Generate a random sample of size 10,000 for the lifetime of System 1\n",
    "\n",
    "**i) Draw a histogram representing the probability density of the sample. On \n",
    "top of the histogram, draw the pdf calculated in Question 1. Does the \n",
    "probability density of the sample follow similar pattern as the pdf?**\n",
    "\n",
    "**ii) Estimate the probability that the system fails before 70 hours using the \n",
    "sampled data. Is the result close to the true probability value?**\n",
    "\n",
    "## i)"
   ]
  },
  {
   "cell_type": "code",
   "execution_count": 4,
   "id": "4ad739d9",
   "metadata": {},
   "outputs": [
    {
     "data": {
      "text/html": [
       "<table>\n",
       "<thead><tr><th scope=col>A</th><th scope=col>B</th><th scope=col>C</th></tr></thead>\n",
       "<tbody>\n",
       "\t<tr><td>177.90208 </td><td> 37.66048 </td><td>138.942161</td></tr>\n",
       "\t<tr><td> 14.05924 </td><td>268.37468 </td><td> 48.547797</td></tr>\n",
       "\t<tr><td> 96.34598 </td><td>462.07320 </td><td>154.529644</td></tr>\n",
       "\t<tr><td> 80.70542 </td><td> 23.62402 </td><td> 12.047823</td></tr>\n",
       "\t<tr><td> 73.69495 </td><td> 46.14321 </td><td>  1.204341</td></tr>\n",
       "\t<tr><td> 25.77810 </td><td> 48.03577 </td><td>154.740564</td></tr>\n",
       "</tbody>\n",
       "</table>\n"
      ],
      "text/latex": [
       "\\begin{tabular}{lll}\n",
       " A & B & C\\\\\n",
       "\\hline\n",
       "\t 177.90208  &  37.66048  & 138.942161\\\\\n",
       "\t  14.05924  & 268.37468  &  48.547797\\\\\n",
       "\t  96.34598  & 462.07320  & 154.529644\\\\\n",
       "\t  80.70542  &  23.62402  &  12.047823\\\\\n",
       "\t  73.69495  &  46.14321  &   1.204341\\\\\n",
       "\t  25.77810  &  48.03577  & 154.740564\\\\\n",
       "\\end{tabular}\n"
      ],
      "text/markdown": [
       "\n",
       "| A | B | C |\n",
       "|---|---|---|\n",
       "| 177.90208  |  37.66048  | 138.942161 |\n",
       "|  14.05924  | 268.37468  |  48.547797 |\n",
       "|  96.34598  | 462.07320  | 154.529644 |\n",
       "|  80.70542  |  23.62402  |  12.047823 |\n",
       "|  73.69495  |  46.14321  |   1.204341 |\n",
       "|  25.77810  |  48.03577  | 154.740564 |\n",
       "\n"
      ],
      "text/plain": [
       "     A         B         C         \n",
       "[1,] 177.90208  37.66048 138.942161\n",
       "[2,]  14.05924 268.37468  48.547797\n",
       "[3,]  96.34598 462.07320 154.529644\n",
       "[4,]  80.70542  23.62402  12.047823\n",
       "[5,]  73.69495  46.14321   1.204341\n",
       "[6,]  25.77810  48.03577 154.740564"
      ]
     },
     "metadata": {},
     "output_type": "display_data"
    },
    {
     "data": {
      "text/html": [
       "<ol class=list-inline>\n",
       "\t<li>177.902081624757</li>\n",
       "\t<li>268.374676690964</li>\n",
       "\t<li>462.073199080202</li>\n",
       "\t<li>80.7054182108412</li>\n",
       "\t<li>73.694950562335</li>\n",
       "\t<li>154.740564220383</li>\n",
       "</ol>\n"
      ],
      "text/latex": [
       "\\begin{enumerate*}\n",
       "\\item 177.902081624757\n",
       "\\item 268.374676690964\n",
       "\\item 462.073199080202\n",
       "\\item 80.7054182108412\n",
       "\\item 73.694950562335\n",
       "\\item 154.740564220383\n",
       "\\end{enumerate*}\n"
      ],
      "text/markdown": [
       "1. 177.902081624757\n",
       "2. 268.374676690964\n",
       "3. 462.073199080202\n",
       "4. 80.7054182108412\n",
       "5. 73.694950562335\n",
       "6. 154.740564220383\n",
       "\n",
       "\n"
      ],
      "text/plain": [
       "[1] 177.90208 268.37468 462.07320  80.70542  73.69495 154.74056"
      ]
     },
     "metadata": {},
     "output_type": "display_data"
    }
   ],
   "source": [
    "n = 10000\n",
    "\n",
    "A = rexp(n, rate = 1/80)\n",
    "B = rexp(n, rate = 1/80)\n",
    "C = rexp(n, rate = 1/80)\n",
    "\n",
    "#I copy it 3 times with the expectation that the random element will make them different\n",
    "#Despite the same parameters\n",
    "\n",
    "Y = cbind(A,B,C)\n",
    "head(Y)\n",
    "\n",
    "Y1 = apply(Y,1,max)\n",
    "head(Y1)"
   ]
  },
  {
   "cell_type": "markdown",
   "id": "d0f75f31",
   "metadata": {},
   "source": [
    "Now we have the data, we can easily generate  histogram"
   ]
  },
  {
   "cell_type": "code",
   "execution_count": 5,
   "id": "fb9f50bf",
   "metadata": {},
   "outputs": [
    {
     "data": {
      "image/png": "[encoded data removed]",
      "text/plain": [
       "Plot with title \"Histogram of Y1\""
      ]
     },
     "metadata": {},
     "output_type": "display_data"
    }
   ],
   "source": [
    "#First, let's get the PDF function up and running\n",
    "pdf = function(y){(-3/40)*exp(-y/40) + (3/80)*exp(-y/80) + (3/80)*exp(-3*y/80)}\n",
    "\n",
    "#Now the histogram\n",
    "hist(Y1, prob=TRUE, breaks = 100)\n",
    "\n",
    "#Now the curve\n",
    "curve(pdf, from = 0, to = 600, add=TRUE, col=\"blue\")"
   ]
  },
  {
   "cell_type": "markdown",
   "id": "6d04e1c7",
   "metadata": {},
   "source": [
    "And yes, the randomly generated curve does seem to follow the PDF quite closley!"
   ]
  },
  {
   "cell_type": "markdown",
   "id": "7a21e1d3",
   "metadata": {},
   "source": [
    "## ii)"
   ]
  },
  {
   "cell_type": "code",
   "execution_count": 6,
   "id": "076e79c3",
   "metadata": {},
   "outputs": [
    {
     "name": "stdout",
     "output_type": "stream",
     "text": [
      "19.71 %"
     ]
    }
   ],
   "source": [
    "cat(round(sum(Y1<70)/n,4)*100,\"%\")"
   ]
  },
  {
   "cell_type": "markdown",
   "id": "394034cf",
   "metadata": {},
   "source": [
    "Which is close enough."
   ]
  }
 ],
 "metadata": {
  "kernelspec": {
   "display_name": "R",
   "language": "R",
   "name": "ir"
  },
  "language_info": {
   "codemirror_mode": "r",
   "file_extension": ".r",
   "mimetype": "text/x-r-source",
   "name": "R",
   "pygments_lexer": "r",
   "version": "3.6.1"
  }
 },
 "nbformat": 4,
 "nbformat_minor": 5
}
