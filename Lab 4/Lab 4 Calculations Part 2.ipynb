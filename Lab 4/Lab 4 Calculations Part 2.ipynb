{
 "cells": [
  {
   "cell_type": "code",
   "execution_count": 1,
   "id": "a5106292",
   "metadata": {},
   "outputs": [],
   "source": [
    "options(repr.plot.width=4, repr.plot.height=4) #Something to modify the size of the plot"
   ]
  },
  {
   "cell_type": "markdown",
   "id": "b376dd14",
   "metadata": {},
   "source": [
    "# Question 2: What is the probability that the system fails before 70 hours based on your cdf in Question 1?"
   ]
  },
  {
   "cell_type": "code",
   "execution_count": 2,
   "id": "b61d41f2",
   "metadata": {},
   "outputs": [
    {
     "name": "stdout",
     "output_type": "stream",
     "text": [
      "92.76 %"
     ]
    }
   ],
   "source": [
    "cdf = function(y){1-exp(-(3*y)/80)}\n",
    "cat(round(cdf(70),4)*100,\"%\")"
   ]
  },
  {
   "cell_type": "markdown",
   "id": "54b88b6c",
   "metadata": {},
   "source": [
    "# Question 3:Generate a random sample of size 10,000 for the lifetime of System 1\n",
    "\n",
    "**i) Draw a histogram representing the probability density of the sample. On \n",
    "top of the histogram, draw the pdf calculated in Question 1. Does the \n",
    "probability density of the sample follow similar pattern as the pdf?**\n",
    "\n",
    "**ii) Estimate the probability that the system fails before 70 hours using the \n",
    "sampled data. Is the result close to the true probability value?**\n",
    "\n",
    "## i)"
   ]
  },
  {
   "cell_type": "code",
   "execution_count": 3,
   "id": "acc3259f",
   "metadata": {},
   "outputs": [
    {
     "data": {
      "text/html": [
       "<table>\n",
       "<thead><tr><th scope=col>A</th><th scope=col>B</th><th scope=col>C</th></tr></thead>\n",
       "<tbody>\n",
       "\t<tr><td> 56.97403 </td><td>162.030840</td><td>11.463573 </td></tr>\n",
       "\t<tr><td> 64.45959 </td><td>  3.443281</td><td> 7.140519 </td></tr>\n",
       "\t<tr><td> 21.21353 </td><td> 61.099096</td><td>45.794849 </td></tr>\n",
       "\t<tr><td>138.54030 </td><td> 30.080904</td><td>79.072207 </td></tr>\n",
       "\t<tr><td>105.47026 </td><td> 46.590513</td><td> 6.061617 </td></tr>\n",
       "\t<tr><td> 16.62177 </td><td> 11.285458</td><td>58.171659 </td></tr>\n",
       "</tbody>\n",
       "</table>\n"
      ],
      "text/latex": [
       "\\begin{tabular}{lll}\n",
       " A & B & C\\\\\n",
       "\\hline\n",
       "\t  56.97403  & 162.030840 & 11.463573 \\\\\n",
       "\t  64.45959  &   3.443281 &  7.140519 \\\\\n",
       "\t  21.21353  &  61.099096 & 45.794849 \\\\\n",
       "\t 138.54030  &  30.080904 & 79.072207 \\\\\n",
       "\t 105.47026  &  46.590513 &  6.061617 \\\\\n",
       "\t  16.62177  &  11.285458 & 58.171659 \\\\\n",
       "\\end{tabular}\n"
      ],
      "text/markdown": [
       "\n",
       "| A | B | C |\n",
       "|---|---|---|\n",
       "|  56.97403  | 162.030840 | 11.463573  |\n",
       "|  64.45959  |   3.443281 |  7.140519  |\n",
       "|  21.21353  |  61.099096 | 45.794849  |\n",
       "| 138.54030  |  30.080904 | 79.072207  |\n",
       "| 105.47026  |  46.590513 |  6.061617  |\n",
       "|  16.62177  |  11.285458 | 58.171659  |\n",
       "\n"
      ],
      "text/plain": [
       "     A         B          C        \n",
       "[1,]  56.97403 162.030840 11.463573\n",
       "[2,]  64.45959   3.443281  7.140519\n",
       "[3,]  21.21353  61.099096 45.794849\n",
       "[4,] 138.54030  30.080904 79.072207\n",
       "[5,] 105.47026  46.590513  6.061617\n",
       "[6,]  16.62177  11.285458 58.171659"
      ]
     },
     "metadata": {},
     "output_type": "display_data"
    },
    {
     "data": {
      "text/html": [
       "<ol class=list-inline>\n",
       "\t<li>11.4635729789734</li>\n",
       "\t<li>3.44328138977289</li>\n",
       "\t<li>21.2135274831955</li>\n",
       "\t<li>30.0809041038156</li>\n",
       "\t<li>6.06161680072546</li>\n",
       "\t<li>11.285457611084</li>\n",
       "</ol>\n"
      ],
      "text/latex": [
       "\\begin{enumerate*}\n",
       "\\item 11.4635729789734\n",
       "\\item 3.44328138977289\n",
       "\\item 21.2135274831955\n",
       "\\item 30.0809041038156\n",
       "\\item 6.06161680072546\n",
       "\\item 11.285457611084\n",
       "\\end{enumerate*}\n"
      ],
      "text/markdown": [
       "1. 11.4635729789734\n",
       "2. 3.44328138977289\n",
       "3. 21.2135274831955\n",
       "4. 30.0809041038156\n",
       "5. 6.06161680072546\n",
       "6. 11.285457611084\n",
       "\n",
       "\n"
      ],
      "text/plain": [
       "[1] 11.463573  3.443281 21.213527 30.080904  6.061617 11.285458"
      ]
     },
     "metadata": {},
     "output_type": "display_data"
    }
   ],
   "source": [
    "n = 10000\n",
    "\n",
    "A = rexp(n, rate = 1/80)\n",
    "B = rexp(n, rate = 1/80)\n",
    "C = rexp(n, rate = 1/80)\n",
    "\n",
    "#I copy it 3 times with the expectation that the random element will make them different\n",
    "#Despite the same parameters\n",
    "\n",
    "Y = cbind(A,B,C)\n",
    "head(Y)\n",
    "\n",
    "Y1 = apply(Y,1,min)\n",
    "head(Y1)"
   ]
  },
  {
   "cell_type": "code",
   "execution_count": 4,
   "id": "005b9d80",
   "metadata": {},
   "outputs": [
    {
     "data": {
      "image/png": "[encoded data removed]",
      "text/plain": [
       "Plot with title \"Histogram of Y1\""
      ]
     },
     "metadata": {},
     "output_type": "display_data"
    }
   ],
   "source": [
    "#First, let's get the PDF function up and running\n",
    "pdf = function(y){(3/80) * exp(-3*y/80)}\n",
    "\n",
    "#Now the histogram\n",
    "hist(Y1, prob=TRUE, breaks = 100)\n",
    "\n",
    "#Now the curve\n",
    "curve(pdf, from = 0, to = 300, add=TRUE, col = \"Magenta\")"
   ]
  },
  {
   "cell_type": "code",
   "execution_count": 5,
   "id": "223f7d3b",
   "metadata": {},
   "outputs": [
    {
     "name": "stdout",
     "output_type": "stream",
     "text": [
      "92.47 %"
     ]
    }
   ],
   "source": [
    "cat(round(sum(Y1<70)/n,4)*100,\"%\")"
   ]
  },
  {
   "cell_type": "markdown",
   "id": "126a9601",
   "metadata": {},
   "source": [
    "And yes, it fits beautifully!"
   ]
  }
 ],
 "metadata": {
  "kernelspec": {
   "display_name": "R",
   "language": "R",
   "name": "ir"
  },
  "language_info": {
   "codemirror_mode": "r",
   "file_extension": ".r",
   "mimetype": "text/x-r-source",
   "name": "R",
   "pygments_lexer": "r",
   "version": "3.6.1"
  }
 },
 "nbformat": 4,
 "nbformat_minor": 5
}
