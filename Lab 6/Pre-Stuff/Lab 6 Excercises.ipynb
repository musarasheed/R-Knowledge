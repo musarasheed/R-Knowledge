{
 "cells": [
  {
   "cell_type": "code",
   "execution_count": 1,
   "id": "12b9f636",
   "metadata": {},
   "outputs": [],
   "source": [
    "options(repr.plot.width=8, repr.plot.height=4) #Something to help adjust the shape of the plot"
   ]
  },
  {
   "cell_type": "markdown",
   "id": "3a0dee58",
   "metadata": {},
   "source": [
    "# Lab 6\n",
    "## By Musa Rasheed (25618232)\n",
    "\n",
    "A certain species of bird is historically known to have a Normally distributed flight speed with \n",
    "a mean of 40 km/hr and a standard deviation of 3 km/hr. You would like to estimate the true \n",
    "variance of the flight speed using a sample of birds.\n",
    "Find the “best” estimator of true population variance from the following three estimators:\n",
    "\n",
    "$$\n",
    "S_0^2 = \\frac{1}{n} \\sum^n_{i=1} (X_i - \\bar{X})^2\\\\\n",
    "S_1^2 = \\frac{1}{n-1} \\sum^n_{i=1} (X_i - \\bar{X})^2\\\\\n",
    "S_2^2 = \\frac{1}{n-2} \\sum^n_{i=1} (X_i - \\bar{X})^2\n",
    "$$\n",
    "\n",
    "## 1) Draw 10,000 samples of size 10 from the distribution identified above, and calculate the value of each of the above three estimators $s_0^2, s_1^2, s_2^2$ for each of the 10,000 samples.\n",
    "\n",
    "Let's make an empty matrix and generate some data:"
   ]
  },
  {
   "cell_type": "code",
   "execution_count": 2,
   "id": "2251b604",
   "metadata": {},
   "outputs": [],
   "source": [
    "##### Making the matrix #####\n",
    "m = 10000\n",
    "n = 10\n",
    "\n",
    "#So 10,000 samples (the rows) and each row has 10 numbers (sample size 10)\n",
    "\n",
    "mu = 40\n",
    "sigma = 3\n",
    "\n",
    "data = matrix(0, nrow = m, ncol = n)"
   ]
  },
  {
   "cell_type": "code",
   "execution_count": 3,
   "id": "db7c2737",
   "metadata": {},
   "outputs": [],
   "source": [
    "##### Generate the data #####\n",
    "for(i in 1:m){\n",
    "    data[i,] = rnorm(n, mean = mu, sd = sigma)\n",
    "}"
   ]
  },
  {
   "cell_type": "code",
   "execution_count": 4,
   "id": "9ac6dc2a",
   "metadata": {},
   "outputs": [],
   "source": [
    "##### Find the sample variance for each row #####\n",
    "s0_var = rep(0,m)\n",
    "s1_var = rep(0,m)\n",
    "s2_var = rep(0,m)\n",
    "\n",
    "for(i in 1:m){\n",
    "    dev = data[i,] - mean(data[i,]) #Calculating the deviation for each sample\n",
    "    \n",
    "    #Applying the formula of each method and appending it to the respective list\n",
    "    s0_var[i] = (1/n) * sum(dev^2)\n",
    "    s1_var[i] = (1/(n-1)) * sum(dev^2)\n",
    "    s2_var[i] = (1/(n-2)) * sum(dev^2)\n",
    "\n",
    "}\n"
   ]
  },
  {
   "cell_type": "markdown",
   "id": "7e8d1133",
   "metadata": {},
   "source": [
    "We've now applied the formulas for each. Since the true population variance should be $9$ (since $\\sigma = 3$) the \"best\" option will be the one who has a mean variance closest to 9:"
   ]
  },
  {
   "cell_type": "code",
   "execution_count": 5,
   "id": "beab4419",
   "metadata": {},
   "outputs": [
    {
     "name": "stdout",
     "output_type": "stream",
     "text": [
      "[1] 8.132549\n",
      "[1] 9.036166\n",
      "[1] 10.16569\n"
     ]
    }
   ],
   "source": [
    "print(mean(s0_var))\n",
    "print(mean(s1_var))\n",
    "print(mean(s2_var))"
   ]
  },
  {
   "cell_type": "markdown",
   "id": "07259622",
   "metadata": {},
   "source": [
    "Before we come to a decision, let's examing the center and variance of each of these with 3 seperate histograms:\n",
    "# 2: Compare the center and spread of your results for $s_0^2, s_1^2, s_2^2$ using suitable plots and summary statistics. Which estimator would you choose as the best to estimate the population variance? Briefly justify your choice.\n",
    "\n",
    "## Summary Statstics and plots for S0:"
   ]
  },
  {
   "cell_type": "code",
   "execution_count": 6,
   "id": "0469bb1c",
   "metadata": {},
   "outputs": [
    {
     "data": {
      "text/plain": [
       "   Min. 1st Qu.  Median    Mean 3rd Qu.    Max. \n",
       "  0.476   5.371   7.584   8.133  10.239  28.760 "
      ]
     },
     "metadata": {},
     "output_type": "display_data"
    },
    {
     "name": "stdout",
     "output_type": "stream",
     "text": [
      "[1] \"The center (mean) is:\" \"8.13254906464067\"     \n",
      "[1] \"The spread (variance) is:\" \"14.4040953896798\"         \n"
     ]
    },
    {
     "data": {
      "image/png": "[encoded data removed]",
      "text/plain": [
       "Plot with title \"Histogram of S0 Variances\""
      ]
     },
     "metadata": {},
     "output_type": "display_data"
    }
   ],
   "source": [
    "par(mfrow = c(1,2))\n",
    "hist(s0_var, main = \"Histogram of S0 Variances\", xlab = \"s0 variances\")\n",
    "boxplot(s0_var, xlab = \"Estimator 0\")\n",
    "\n",
    "summary(s0_var)\n",
    "print(c('The center (mean) is:',mean(s0_var)))\n",
    "print(c('The spread (variance) is:',var(s0_var)))"
   ]
  },
  {
   "cell_type": "markdown",
   "id": "0619b452",
   "metadata": {},
   "source": [
    "## Summary Statstics and plots for S1:"
   ]
  },
  {
   "cell_type": "code",
   "execution_count": 7,
   "id": "f0f6cc8c",
   "metadata": {},
   "outputs": [
    {
     "data": {
      "text/plain": [
       "   Min. 1st Qu.  Median    Mean 3rd Qu.    Max. \n",
       " 0.5289  5.9679  8.4269  9.0362 11.3772 31.9558 "
      ]
     },
     "metadata": {},
     "output_type": "display_data"
    },
    {
     "name": "stdout",
     "output_type": "stream",
     "text": [
      "[1] \"The center (mean) is:\" \"9.03616562737852\"     \n",
      "[1] \"The spread (variance) is:\" \"17.7828338144195\"         \n"
     ]
    },
    {
     "data": {
      "image/png": "[encoded data removed]",
      "text/plain": [
       "Plot with title \"Histogram of S1 Variances\""
      ]
     },
     "metadata": {},
     "output_type": "display_data"
    }
   ],
   "source": [
    "par(mfrow = c(1,2))\n",
    "hist(s1_var, main = \"Histogram of S1 Variances\", xlab = \"s1 variances\")\n",
    "boxplot(s1_var, xlab = \"Estimator 1\")\n",
    "\n",
    "summary(s1_var)\n",
    "print(c('The center (mean) is:',mean(s1_var)))\n",
    "print(c('The spread (variance) is:',var(s1_var)))"
   ]
  },
  {
   "cell_type": "markdown",
   "id": "4bfc0e62",
   "metadata": {},
   "source": [
    "## Summary Statstics and plots for S2:"
   ]
  },
  {
   "cell_type": "code",
   "execution_count": 8,
   "id": "c795be61",
   "metadata": {},
   "outputs": [
    {
     "data": {
      "text/plain": [
       "   Min. 1st Qu.  Median    Mean 3rd Qu.    Max. \n",
       "  0.595   6.714   9.480  10.166  12.799  35.950 "
      ]
     },
     "metadata": {},
     "output_type": "display_data"
    },
    {
     "name": "stdout",
     "output_type": "stream",
     "text": [
      "[1] \"The center (mean) is:\" \"10.1656863308008\"     \n",
      "[1] \"The spread (variance) is:\" \"22.5063990463746\"         \n"
     ]
    },
    {
     "data": {
      "image/png": "[encoded data removed]",
      "text/plain": [
       "Plot with title \"Histogram of S2 Variances\""
      ]
     },
     "metadata": {},
     "output_type": "display_data"
    }
   ],
   "source": [
    "par(mfrow = c(1,2))\n",
    "hist(s2_var, main = \"Histogram of S2 Variances\",xlab = \"S2 variances\")\n",
    "boxplot(s2_var, xlab = \"Estimator 2\")\n",
    "\n",
    "summary(s2_var)\n",
    "print(c('The center (mean) is:', mean(s2_var)))\n",
    "print(c('The spread (variance) is:',var(s2_var)))"
   ]
  },
  {
   "cell_type": "markdown",
   "id": "be2cda86",
   "metadata": {},
   "source": [
    "S1 seems to be the best choice. This is because it had the value closest to that of the true value ($\\sigma^2=9$). It did have a higher variance than the s0 formula, so it was more \"unsure\" of it's results. However, that is not the mark of a good estimator. \n",
    "\n",
    "The bias is lowest for the S1 estimator as shown below, making it the ideal choice:"
   ]
  },
  {
   "cell_type": "code",
   "execution_count": 9,
   "id": "2246d76a",
   "metadata": {},
   "outputs": [
    {
     "data": {
      "text/html": [
       "<ol class=list-inline>\n",
       "\t<li>'The bias for s0 is: '</li>\n",
       "\t<li>'0.867450935359333'</li>\n",
       "</ol>\n"
      ],
      "text/latex": [
       "\\begin{enumerate*}\n",
       "\\item 'The bias for s0 is: '\n",
       "\\item '0.867450935359333'\n",
       "\\end{enumerate*}\n"
      ],
      "text/markdown": [
       "1. 'The bias for s0 is: '\n",
       "2. '0.867450935359333'\n",
       "\n",
       "\n"
      ],
      "text/plain": [
       "[1] \"The bias for s0 is: \" \"0.867450935359333\"   "
      ]
     },
     "metadata": {},
     "output_type": "display_data"
    },
    {
     "data": {
      "text/html": [
       "<ol class=list-inline>\n",
       "\t<li>'The bias for s1 is: '</li>\n",
       "\t<li>'-0.0361656273785194'</li>\n",
       "</ol>\n"
      ],
      "text/latex": [
       "\\begin{enumerate*}\n",
       "\\item 'The bias for s1 is: '\n",
       "\\item '-0.0361656273785194'\n",
       "\\end{enumerate*}\n"
      ],
      "text/markdown": [
       "1. 'The bias for s1 is: '\n",
       "2. '-0.0361656273785194'\n",
       "\n",
       "\n"
      ],
      "text/plain": [
       "[1] \"The bias for s1 is: \" \"-0.0361656273785194\" "
      ]
     },
     "metadata": {},
     "output_type": "display_data"
    },
    {
     "data": {
      "text/html": [
       "<ol class=list-inline>\n",
       "\t<li>'The bias for s2 is: '</li>\n",
       "\t<li>'-1.16568633080083'</li>\n",
       "</ol>\n"
      ],
      "text/latex": [
       "\\begin{enumerate*}\n",
       "\\item 'The bias for s2 is: '\n",
       "\\item '-1.16568633080083'\n",
       "\\end{enumerate*}\n"
      ],
      "text/markdown": [
       "1. 'The bias for s2 is: '\n",
       "2. '-1.16568633080083'\n",
       "\n",
       "\n"
      ],
      "text/plain": [
       "[1] \"The bias for s2 is: \" \"-1.16568633080083\"   "
      ]
     },
     "metadata": {},
     "output_type": "display_data"
    }
   ],
   "source": [
    "c(\"The bias for s0 is: \",9-mean(s0_var))\n",
    "c(\"The bias for s1 is: \",9-mean(s1_var))\n",
    "c(\"The bias for s2 is: \",9-mean(s2_var))\n",
    "## S1 is the best!"
   ]
  },
  {
   "cell_type": "markdown",
   "id": "5904e1e3",
   "metadata": {},
   "source": [
    "# 3: Generate a suitable plot of the results for the estimator you chose, and describe the shape of the distribution. "
   ]
  },
  {
   "cell_type": "code",
   "execution_count": 10,
   "id": "d94a926c",
   "metadata": {},
   "outputs": [
    {
     "data": {
      "image/png": "[encoded data removed]",
      "text/plain": [
       "Plot with title \"Histogram of S1 Variances\""
      ]
     },
     "metadata": {},
     "output_type": "display_data"
    }
   ],
   "source": [
    "hist(s1_var, main = \"Histogram of S1 Variances\",xlab = \"S1 variances\")\n"
   ]
  },
  {
   "cell_type": "markdown",
   "id": "4656acb1",
   "metadata": {},
   "source": [
    "This is a right skewed distribution centered at around 9\n",
    "\n",
    "### Disadvantage of a point distribution\n",
    "It is often more accurate to have a range of values to test rather than relying on 1 single estiamte. Also, in order to make the point estimator sufficiently accurate, we need quite a bit of data which is not always possible to obtain.\n",
    "\n",
    "However, it is still easy and fast to calculate, and with sufficient data it is pretty \"on the money\" so it depends on your scenario. "
   ]
  }
 ],
 "metadata": {
  "kernelspec": {
   "display_name": "R",
   "language": "R",
   "name": "ir"
  },
  "language_info": {
   "codemirror_mode": "r",
   "file_extension": ".r",
   "mimetype": "text/x-r-source",
   "name": "R",
   "pygments_lexer": "r",
   "version": "3.6.1"
  }
 },
 "nbformat": 4,
 "nbformat_minor": 5
}
