{
 "cells": [
  {
   "cell_type": "code",
   "execution_count": 1,
   "id": "ff524595",
   "metadata": {},
   "outputs": [],
   "source": [
    "options(repr.plot.width=4, repr.plot.height=4) #Something to help adjust the shape of the plot"
   ]
  },
  {
   "cell_type": "markdown",
   "id": "ab520f91",
   "metadata": {},
   "source": [
    "# Lab 6 Preperation\n",
    "\n",
    "Lessons to be learned: \n",
    "\n",
    "* Point Estimates\n",
    "* Statstics aka random variables\n",
    "* Sample Variance\n",
    "* For Loops\n",
    "\n",
    "# Point Estimator Theory\n",
    "A point estimate is a combination of sample measurments (acting like a function of the sample) that spits out values that are close to the paramter it wants to estimate. As an example:\n",
    "\n",
    "The samples means $\\hat{\\theta}$'s are used to estimate the parameter of population mean $\\theta$ by using the mean function $E(\\hat{\\theta})$ \n",
    "\n",
    "Essentially, we are using the statstics (represented by random variables $X_1, X_2...X_n$) to estimate the parameter, the paramter being a *fixed unknown constant*. So far so good right? \n",
    "\n",
    "We assume that the stastics are independent, and that they are unbiased. Unbiased here means the result of that function should be close to the paramter on average. \n",
    "\n",
    "\n",
    "# Sample Variance\n",
    "We know from class that $\\bar{X}$ (the means of each of the sample means, AKA mean of means) is a very good point estimator for the population mean $\\mu$. But is this true for the sample variance $s^2$ and the population variance $\\sigma^2$?\n",
    "\n",
    "Recall that: \n",
    "\n",
    "$$\n",
    "s^2 = \\frac{1}{n-1} \\sum^{n}_{i=1} (X_i - \\bar{X})^2\n",
    "$$\n",
    "\n",
    "We'll use R and this formula to test if this is a good esitmator.\n",
    "\n",
    "By the way, it is a good estimator (we proved it in class its in my OneNote right now) but we have to do something for the lab soooooo....\n",
    "\n",
    "# For Loops\n",
    "Python I miss you... You already know about for loops, I used them all the time in python for christs sake. Here is the syntax for those kind of loops in R: \n",
    "\n",
    "```\n",
    "for(\"variable\" in \"list\"){\n",
    "do something\n",
    "}\n",
    "```\n",
    "\n",
    "As an example if I wanted to multiply every number between 1 and 10 times 3 I could: "
   ]
  },
  {
   "cell_type": "code",
   "execution_count": 2,
   "id": "8c1a1608",
   "metadata": {},
   "outputs": [
    {
     "name": "stdout",
     "output_type": "stream",
     "text": [
      "[1] 3\n",
      "[1] 6\n",
      "[1] 9\n",
      "[1] 12\n",
      "[1] 15\n",
      "[1] 18\n",
      "[1] 21\n",
      "[1] 24\n",
      "[1] 27\n",
      "[1] 30\n"
     ]
    }
   ],
   "source": [
    "nums = c(1:10)\n",
    "\n",
    "for (i in nums){\n",
    "    print(i*3)\n",
    "}"
   ]
  },
  {
   "cell_type": "markdown",
   "id": "0bc80fcb",
   "metadata": {},
   "source": [
    "Of course we have more practical uses for these. Say we wanted to go through every single number in a $5x4$ matrix, like the one I'm making below:"
   ]
  },
  {
   "cell_type": "code",
   "execution_count": 3,
   "id": "05f0df42",
   "metadata": {},
   "outputs": [
    {
     "data": {
      "text/html": [
       "<table>\n",
       "<tbody>\n",
       "\t<tr><td>1 </td><td> 6</td><td>11</td><td>16</td></tr>\n",
       "\t<tr><td>2 </td><td> 7</td><td>12</td><td>17</td></tr>\n",
       "\t<tr><td>3 </td><td> 8</td><td>13</td><td>18</td></tr>\n",
       "\t<tr><td>4 </td><td> 9</td><td>14</td><td>19</td></tr>\n",
       "\t<tr><td>5 </td><td>10</td><td>15</td><td>20</td></tr>\n",
       "</tbody>\n",
       "</table>\n"
      ],
      "text/latex": [
       "\\begin{tabular}{llll}\n",
       "\t 1  &  6 & 11 & 16\\\\\n",
       "\t 2  &  7 & 12 & 17\\\\\n",
       "\t 3  &  8 & 13 & 18\\\\\n",
       "\t 4  &  9 & 14 & 19\\\\\n",
       "\t 5  & 10 & 15 & 20\\\\\n",
       "\\end{tabular}\n"
      ],
      "text/markdown": [
       "\n",
       "| 1  |  6 | 11 | 16 |\n",
       "| 2  |  7 | 12 | 17 |\n",
       "| 3  |  8 | 13 | 18 |\n",
       "| 4  |  9 | 14 | 19 |\n",
       "| 5  | 10 | 15 | 20 |\n",
       "\n"
      ],
      "text/plain": [
       "     [,1] [,2] [,3] [,4]\n",
       "[1,] 1     6   11   16  \n",
       "[2,] 2     7   12   17  \n",
       "[3,] 3     8   13   18  \n",
       "[4,] 4     9   14   19  \n",
       "[5,] 5    10   15   20  "
      ]
     },
     "metadata": {},
     "output_type": "display_data"
    }
   ],
   "source": [
    "x = matrix( 1:20, nrow = 5, ncol = 4 ) \n",
    "x"
   ]
  },
  {
   "cell_type": "markdown",
   "id": "ffd0c969",
   "metadata": {},
   "source": [
    "How would I find the sum of the entire dataset? That is, what is $1+6+11+16+2...+20$? Let's use a for loop:"
   ]
  },
  {
   "cell_type": "code",
   "execution_count": 4,
   "id": "03171e23",
   "metadata": {},
   "outputs": [
    {
     "data": {
      "text/html": [
       "TRUE"
      ],
      "text/latex": [
       "TRUE"
      ],
      "text/markdown": [
       "TRUE"
      ],
      "text/plain": [
       "[1] TRUE"
      ]
     },
     "metadata": {},
     "output_type": "display_data"
    }
   ],
   "source": [
    "sums = 0\n",
    "for(i in x){\n",
    "    sums = sums+i\n",
    "}\n",
    "sums == sum(c(1:20)) #So it works!"
   ]
  },
  {
   "cell_type": "markdown",
   "id": "40e7c32a",
   "metadata": {},
   "source": [
    "# Excercise\n",
    "The \"Hardness\" of a metal is measured with some stupid number called the rockwell hardness scale. For a certain metal, it has it's hardness vary normally with a mean of $105$ and a standard deviation of $12$. You have a sample of this metal, and want to see if the sample variance of this metal matches the known population variance of $12^2$.\n",
    "\n",
    "Draw 100 samples of size 10 from that normal distribution and find the sample variance of each sample using a for loop."
   ]
  },
  {
   "cell_type": "code",
   "execution_count": 11,
   "id": "6b478667",
   "metadata": {},
   "outputs": [
    {
     "data": {
      "text/html": [
       "<ol class=list-inline>\n",
       "\t<li>1000</li>\n",
       "\t<li>10</li>\n",
       "</ol>\n"
      ],
      "text/latex": [
       "\\begin{enumerate*}\n",
       "\\item 1000\n",
       "\\item 10\n",
       "\\end{enumerate*}\n"
      ],
      "text/markdown": [
       "1. 1000\n",
       "2. 10\n",
       "\n",
       "\n"
      ],
      "text/plain": [
       "[1] 1000   10"
      ]
     },
     "metadata": {},
     "output_type": "display_data"
    }
   ],
   "source": [
    "dim(samples)"
   ]
  },
  {
   "cell_type": "code",
   "execution_count": 5,
   "id": "75126265",
   "metadata": {},
   "outputs": [],
   "source": [
    "m = 10 * 100\n",
    "n = 10\n",
    "mu = 105\n",
    "sigma = 12\n",
    "\n",
    "#Let's make an exmpty matrix to store the data for the whole thing\n",
    "\n",
    "samples = matrix(NA, nrow = m, ncol = n) #a 1000 x 10 sized matrix\n",
    "\n",
    "#Now let's crete another vecotr to represent the variance of each column\n",
    "sample_variances = rep(NA, m) #rep means repeat here. Repeat the value \"NA\" m times. "
   ]
  },
  {
   "cell_type": "code",
   "execution_count": 6,
   "id": "d4b85716",
   "metadata": {},
   "outputs": [],
   "source": [
    "for(i in 1:m){ #repeat this m times\n",
    "samples[i,] = rnorm(n, mean = mu, sd = sigma) #10 random numbers from a normal distribution plugged into each row\n",
    "# each row now represents a sample of 10 numbers\n",
    "deviation = samples[i,] - mean(samples[i,]) #applying the sample variance formula\n",
    "sample_variances[i] = (1/(n-1)) * sum(deviation^2) #summing the results up to complete the variance formula\n",
    "}"
   ]
  },
  {
   "cell_type": "code",
   "execution_count": 7,
   "id": "7534e873",
   "metadata": {},
   "outputs": [
    {
     "data": {
      "text/html": [
       "146.064845503231"
      ],
      "text/latex": [
       "146.064845503231"
      ],
      "text/markdown": [
       "146.064845503231"
      ],
      "text/plain": [
       "[1] 146.0648"
      ]
     },
     "metadata": {},
     "output_type": "display_data"
    }
   ],
   "source": [
    "mean(sample_variances)"
   ]
  },
  {
   "cell_type": "markdown",
   "id": "d7d62eeb",
   "metadata": {},
   "source": [
    "This is pretty close to the population variance of 144 (AKA $12^2$) so it works! Let's visualize all those variances:"
   ]
  },
  {
   "cell_type": "code",
   "execution_count": 8,
   "id": "a1dcefd5",
   "metadata": {},
   "outputs": [
    {
     "data": {
      "image/png": "[encoded data removed]",
      "text/plain": [
       "Plot with title \"Histogram of sample_variances\""
      ]
     },
     "metadata": {},
     "output_type": "display_data"
    },
    {
     "data": {
      "image/png": "[encoded data removed]",
      "text/plain": [
       "plot without title"
      ]
     },
     "metadata": {},
     "output_type": "display_data"
    }
   ],
   "source": [
    "hist(sample_variances)\n",
    "boxplot(sample_variances, xlab = \"Estimator\", ylab = \"Sample Variance\")"
   ]
  },
  {
   "cell_type": "code",
   "execution_count": null,
   "id": "d771410b",
   "metadata": {},
   "outputs": [],
   "source": []
  }
 ],
 "metadata": {
  "kernelspec": {
   "display_name": "R",
   "language": "R",
   "name": "ir"
  },
  "language_info": {
   "codemirror_mode": "r",
   "file_extension": ".r",
   "mimetype": "text/x-r-source",
   "name": "R",
   "pygments_lexer": "r",
   "version": "3.6.1"
  }
 },
 "nbformat": 4,
 "nbformat_minor": 5
}
