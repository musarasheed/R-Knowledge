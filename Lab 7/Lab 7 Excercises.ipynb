{
 "cells": [
  {
   "cell_type": "markdown",
   "id": "ea02f7fe",
   "metadata": {},
   "source": [
    "# <center>Lab 7 Rhinestones</center>\n",
    "## <center>By Musa Rasheed</center>\n",
    "\n",
    "# Excercises\n",
    "The weight of rhinestones used at a jewelry store is uniformly distributed between 1 and 5 grams. You want to estimate the true mean using an interval estimator (point estimator with confidence intervals).\n",
    "\n",
    "### 1) Simulate a sample of size 20 from the above distribution\n",
    "1. Compute your 95% confidence interval for the mean, assuming variance is known.\n",
    "2. Compute your 95% confidence interval for the mean, assuming variance is unknown. \n",
    "3. For each of the two previous problems, repeat the process 10,000 times, and count how many times your confidence interval contains the true mean. Does it match up with what you expect?\n",
    "\n",
    "### 2) Simulate a sample of size 100 from the above distribution.\n",
    "1. Compute your 95% confidence interval for the mean, assuming variance is known.\n",
    "2. Compute your 95% confidence interval for the mean, assuming variance is unknown. \n",
    "3. For each of the two previous problems, repeat the process 10,000 times, and count how many times your confidence interval contains the true mean. Does it match up with what you expect?\n",
    "\n",
    "\n",
    "# Answers to 1 (sample size 20)\n",
    "\n",
    "## 1.1 Known Variance\n",
    "Here, we assume the variance is known. Therefore, we use the Z-score for the test statistic. Let's start by generating the data and defining paramters."
   ]
  },
  {
   "cell_type": "code",
   "execution_count": 1,
   "id": "8c110a34",
   "metadata": {},
   "outputs": [],
   "source": [
    "### Generating the sample of size 20 ###\n",
    "samp = runif(20, 1, 5)\n",
    "\n",
    "mu = (1+5)/2\n",
    "n = 20\n",
    "sigma = ((5-1)^2)/12\n",
    "alpha = 0.05"
   ]
  },
  {
   "cell_type": "markdown",
   "id": "b82e6c85",
   "metadata": {},
   "source": [
    "For this question, I'll assume that I don't know the true mean (which should be 3) but I DO know the true variance (which is $\\frac{4}{3}$ )"
   ]
  },
  {
   "cell_type": "code",
   "execution_count": 2,
   "id": "ac760bf7",
   "metadata": {},
   "outputs": [],
   "source": [
    "avg = mean(samp)"
   ]
  },
  {
   "cell_type": "markdown",
   "id": "fc4c2cc5",
   "metadata": {},
   "source": [
    "To build the confidence interval, I first need the Z-score for a 95% confidence interval:\n",
    "$$\n",
    "Z_{\\frac{0.05}{2}} = 1.96\n",
    "$$\n",
    "\n",
    "Afterwards, I simply plug it into the following formula: \n",
    "\n",
    "$$\n",
    "Z_{\\frac{0.05}{2}} * \\frac{\\sigma}{\\sqrt{n}}\n",
    "$$\n",
    "\n",
    "Then we will have the following interval estimator: \n",
    "\n",
    "$$\n",
    "\\bar{X}±Z_{\\frac{0.05}{2}}\\frac{\\sigma}{\\sqrt{n}}\n",
    "$$"
   ]
  },
  {
   "cell_type": "code",
   "execution_count": 3,
   "id": "0c8210a9",
   "metadata": {},
   "outputs": [
    {
     "name": "stdout",
     "output_type": "stream",
     "text": [
      "[1] 3.565134 2.396438\n",
      "[1] \"True mean is within the maximum and minimum\"\n"
     ]
    }
   ],
   "source": [
    "Z = qnorm(1-(alpha/2))\n",
    "CIK = Z * (sigma/sqrt(n)) #CIK stands for Confidence Interval Known\n",
    "\n",
    "maxk = avg+CIK #Known variance maximum\n",
    "mink = avg-CIK #Known variance minimum\n",
    "\n",
    "print(c(maxk, mink))\n",
    "\n",
    "if(mu < maxk && mu > mink){\n",
    "    print(\"True mean is within the maximum and minimum\")\n",
    "} else if (mu > maxk || mu < mink){\n",
    "    print(\"True mean is NOT within the interval\")\n",
    "}"
   ]
  },
  {
   "cell_type": "markdown",
   "id": "cf565b09",
   "metadata": {},
   "source": [
    "## 1.2 Variance Unknown\n",
    "If the variance is unknown, we have to resort to the t-distribution, and rely on the sample variance as well as a t-table (or R in this case). \n",
    "\n",
    "First, get the value from R depending on the confidence level and the degrees of freedom:\n",
    "\n",
    "$$\n",
    "t_{\\frac{\\alpha}{2},n-1}\n",
    "$$\n",
    "\n",
    "Then get the sample variance and take the product:\n",
    "\n",
    "$$\n",
    "t_{\\frac{\\alpha}{2},n-1} * \\frac{s}{\\sqrt{n}}\n",
    "$$\n",
    "\n",
    "We get the sample variance using the following formula\n",
    "\n",
    "$$\n",
    "s = \\sqrt{\\frac{1}{n-1} * \\sum^n_{i=1} (x_i - \\bar{x})^2}\n",
    "$$\n",
    "\n",
    "easy!"
   ]
  },
  {
   "cell_type": "code",
   "execution_count": 4,
   "id": "cdc78e55",
   "metadata": {},
   "outputs": [
    {
     "name": "stdout",
     "output_type": "stream",
     "text": [
      "[1] 3.535111 2.426461\n",
      "[1] \"True mean is within the maximum and minimum\"\n"
     ]
    }
   ],
   "source": [
    "t = qt(alpha/2, n-1, lower.tail = FALSE)\n",
    "s = sqrt((1/(n-1)) * sum((samp - mean(samp))^2))\n",
    "\n",
    "CIU = t * s / (sqrt(n))\n",
    "\n",
    "maxu = avg + CIU\n",
    "minu = avg - CIU\n",
    "\n",
    "print(c(maxu, minu))\n",
    "\n",
    "if(mu < maxu && mu > minu){\n",
    "    print(\"True mean is within the maximum and minimum\")\n",
    "} else if (mu > maxu || mu < minu){\n",
    "    print(\"True mean is NOT within the interval\")\n",
    "}"
   ]
  },
  {
   "cell_type": "markdown",
   "id": "bbdac97c",
   "metadata": {},
   "source": [
    "## 1.3 Do it 10,000 times!\n",
    "Now we have to see if our 95% cofidence intervals really work 95% of the time. 10,000 is large enough to see the true average.\n",
    "\n",
    "I'll set up a for loop to take a random sample from the uniform distribution 10,000 times. I'll then see how many times the mean of that sample falls within each of the confidence intervals I created. I'll then add the known and unknown confidence intervals to those averages, and see how many times the true mean (3) falls into that range. "
   ]
  },
  {
   "cell_type": "code",
   "execution_count": 5,
   "id": "5b959d0b",
   "metadata": {},
   "outputs": [],
   "source": [
    "Z_success = 0\n",
    "Z_failure = 0\n",
    "\n",
    "T_success = 0\n",
    "T_failure = 0\n",
    "\n",
    "for(i in 1:10000){\n",
    "    samp = runif(20, 1, 5)\n",
    "    avg = mean(samp) #Sample Average\n",
    "    \n",
    "    maxk = avg + CIK\n",
    "    mink = avg - CIK\n",
    "    \n",
    "    maxu = avg + CIU\n",
    "    minu = avg - CIU\n",
    "    \n",
    "\n",
    "    if(mu < maxk && mu > mink){\n",
    "    Z_success = Z_success + 1\n",
    "    } else if (mu > maxk || mu < mink){\n",
    "    Z_failure = Z_failure + 1\n",
    "    }\n",
    "    \n",
    "    if(mu < maxu && mu > minu){\n",
    "    T_success = T_success + 1\n",
    "    } else if (mu > maxu || mu < minu){\n",
    "    T_failure = T_failure + 1\n",
    "    }\n",
    "    \n",
    "}"
   ]
  },
  {
   "cell_type": "code",
   "execution_count": 6,
   "id": "e57799a0",
   "metadata": {},
   "outputs": [
    {
     "data": {
      "text/html": [
       "'97.79% Success rate for the known variance'"
      ],
      "text/latex": [
       "'97.79\\% Success rate for the known variance'"
      ],
      "text/markdown": [
       "'97.79% Success rate for the known variance'"
      ],
      "text/plain": [
       "[1] \"97.79% Success rate for the known variance\""
      ]
     },
     "metadata": {},
     "output_type": "display_data"
    },
    {
     "data": {
      "text/html": [
       "'97.01% Success rate for the unknown variance'"
      ],
      "text/latex": [
       "'97.01\\% Success rate for the unknown variance'"
      ],
      "text/markdown": [
       "'97.01% Success rate for the unknown variance'"
      ],
      "text/plain": [
       "[1] \"97.01% Success rate for the unknown variance\""
      ]
     },
     "metadata": {},
     "output_type": "display_data"
    }
   ],
   "source": [
    "paste(round(Z_success / 10000, 4)*100,'% Success rate for the known variance', sep = \"\")\n",
    "paste(round(T_success / 10000, 4)*100,'% Success rate for the unknown variance', sep = \"\")"
   ]
  },
  {
   "cell_type": "markdown",
   "id": "f7a6c796",
   "metadata": {},
   "source": [
    "Now this does NOT match up with what I expected. It could be that I made some error I don't yet understand, but this seems to be close to a 97% or 98% confidence interval rather than a 95%. I don't fully understand what I did wrong because I followed the steps pretty closley. It may have something to do with the 0.025 number since $100-2.5\\approx97.5$ but where that mistake is made I do not know. It could be that the \"random\" numbers that R is using is less random and that has something to do with it?\n",
    "\n",
    "Anyways, on to the next question!\n",
    "\n",
    "# Answers to 2 (sample size 100)\n",
    "## 2.1 Known Variance\n",
    "Since the steps are going to be the same as before, I won't do much explaining. "
   ]
  },
  {
   "cell_type": "code",
   "execution_count": 7,
   "id": "235eb9fa",
   "metadata": {},
   "outputs": [],
   "source": [
    "### Generating the sample of size 100 ###\n",
    "samp = runif(100, 1, 5)\n",
    "\n",
    "mu = (1+5)/2\n",
    "n = 100\n",
    "sigma = ((5-1)^2)/12\n",
    "alpha = 0.05\n",
    "avg = mean(samp)"
   ]
  },
  {
   "cell_type": "code",
   "execution_count": 8,
   "id": "347f9fc9",
   "metadata": {},
   "outputs": [
    {
     "name": "stdout",
     "output_type": "stream",
     "text": [
      "[1] 3.422294 2.899637\n",
      "[1] \"True mean is within the maximum and minimum\"\n"
     ]
    }
   ],
   "source": [
    "### Known Variance ###\n",
    "Z = qnorm(1-(alpha/2))\n",
    "CIK = Z * (sigma/sqrt(n)) #CIK stands for Confidence Interval Known\n",
    "\n",
    "maxk = avg+CIK #Known variance maximum\n",
    "mink = avg-CIK #Known variance minimum\n",
    "\n",
    "print(c(maxk, mink))\n",
    "\n",
    "if(mu < maxk && mu > mink){\n",
    "    print(\"True mean is within the maximum and minimum\")\n",
    "} else if (mu > maxk || mu < mink){\n",
    "    print(\"True mean is NOT within the interval\")\n",
    "}"
   ]
  },
  {
   "cell_type": "markdown",
   "id": "4e7189f1",
   "metadata": {},
   "source": [
    "## 2.2 uknown Variance"
   ]
  },
  {
   "cell_type": "code",
   "execution_count": 9,
   "id": "044d43a5",
   "metadata": {},
   "outputs": [
    {
     "name": "stdout",
     "output_type": "stream",
     "text": [
      "[1] 3.391305 2.930626\n",
      "[1] \"True mean is within the maximum and minimum\"\n"
     ]
    }
   ],
   "source": [
    "### Unknown Variance ###\n",
    "t = qt(alpha/2, n-1, lower.tail = FALSE)\n",
    "s = sqrt((1/(n-1)) * sum((samp - mean(samp))^2))\n",
    "\n",
    "CIU = t * s / (sqrt(n))\n",
    "\n",
    "maxu = avg + CIU\n",
    "minu = avg - CIU\n",
    "\n",
    "print(c(maxu, minu))\n",
    "\n",
    "if(mu < maxu && mu > minu){\n",
    "    print(\"True mean is within the maximum and minimum\")\n",
    "} else if (mu > maxu || mu < minu){\n",
    "    print(\"True mean is NOT within the interval\")\n",
    "}"
   ]
  },
  {
   "cell_type": "markdown",
   "id": "38684892",
   "metadata": {},
   "source": [
    "## 2.3 Do it 10,000 times!"
   ]
  },
  {
   "cell_type": "code",
   "execution_count": 10,
   "id": "fc2009f6",
   "metadata": {},
   "outputs": [],
   "source": [
    "Z_success = 0\n",
    "Z_failure = 0\n",
    "\n",
    "T_success = 0\n",
    "T_failure = 0\n",
    "\n",
    "for(i in 1:10000){\n",
    "    samp = runif(100, 1, 5)\n",
    "    avg = mean(samp) #Sample Average\n",
    "    \n",
    "    maxk = avg + CIK\n",
    "    mink = avg - CIK\n",
    "    \n",
    "    maxu = avg + CIU\n",
    "    minu = avg - CIU\n",
    "    \n",
    "\n",
    "    if(mu < maxk && mu > mink){\n",
    "    Z_success = Z_success + 1\n",
    "    } else if (mu > maxk || mu < mink){\n",
    "    Z_failure = Z_failure + 1\n",
    "    }\n",
    "    \n",
    "    if(mu < maxu && mu > minu){\n",
    "    T_success = T_success + 1\n",
    "    } else if (mu > maxu || mu < minu){\n",
    "    T_failure = T_failure + 1\n",
    "    }\n",
    "    \n",
    "}"
   ]
  },
  {
   "cell_type": "code",
   "execution_count": 11,
   "id": "aa06ee17",
   "metadata": {},
   "outputs": [
    {
     "data": {
      "text/html": [
       "'97.68% Success rate for the known variance'"
      ],
      "text/latex": [
       "'97.68\\% Success rate for the known variance'"
      ],
      "text/markdown": [
       "'97.68% Success rate for the known variance'"
      ],
      "text/plain": [
       "[1] \"97.68% Success rate for the known variance\""
      ]
     },
     "metadata": {},
     "output_type": "display_data"
    },
    {
     "data": {
      "text/html": [
       "'95.39% Success rate for the unknown variance'"
      ],
      "text/latex": [
       "'95.39\\% Success rate for the unknown variance'"
      ],
      "text/markdown": [
       "'95.39% Success rate for the unknown variance'"
      ],
      "text/plain": [
       "[1] \"95.39% Success rate for the unknown variance\""
      ]
     },
     "metadata": {},
     "output_type": "display_data"
    }
   ],
   "source": [
    "paste(round(Z_success / 10000, 4)*100,'% Success rate for the known variance', sep = \"\")\n",
    "paste(round(T_success / 10000, 4)*100,'% Success rate for the unknown variance', sep = \"\")"
   ]
  },
  {
   "cell_type": "markdown",
   "id": "34930a81",
   "metadata": {},
   "source": [
    "Similair result for the known variance CI, but the unknown variance CI seems to be acting normally! At least for the unkown variance result, the result is what I expect!"
   ]
  }
 ],
 "metadata": {
  "kernelspec": {
   "display_name": "R",
   "language": "R",
   "name": "ir"
  },
  "language_info": {
   "codemirror_mode": "r",
   "file_extension": ".r",
   "mimetype": "text/x-r-source",
   "name": "R",
   "pygments_lexer": "r",
   "version": "3.6.1"
  }
 },
 "nbformat": 4,
 "nbformat_minor": 5
}
