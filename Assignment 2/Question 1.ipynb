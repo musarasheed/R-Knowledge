{
 "cells": [
  {
   "cell_type": "markdown",
   "id": "639ec15e",
   "metadata": {},
   "source": [
    "# Question 1\n",
    "Two gamblers decided to play a game involving rolling a *fair* die. Player $A$ agreed to pay Player $B$ $\\$10$ as an “entry fee” to play. The game consists of Player $A$ rolling a die until he rolls an $1$ for the first time. An example of a possible sequence of rolls in this game is ${(2, 6, 3, 5, 1)}$, with the number of rolls $N = 5$. Assume the rolls are independent\n",
    "\n",
    "### A) Player $A$ wins the game if it takes at least 3 rolls for the first 1 to show up. Find out the probability that player A wins one round of the game.(3 marks)\n",
    "\n",
    "This is a classic geometric distribution problem. Since this is a fair die, the probability of getting a success (getting a 1) would be 1 in 6 or $p=\\frac{1}{6}=0.1\\bar{6}$\n",
    "\n",
    "$$\n",
    "X \\text{~} Geo(0.1666...)\n",
    "$$\n",
    "\n",
    "Now we have to find the probability of winning the first round by delaying the success until 3 or more. i.e. $P(X\\geq 3)$ but it could take infinite roles to get a 1, so instead I'll find $1-P(X<3)$\n",
    "\n",
    "$$\n",
    "F(x)=P(X\\leq x)=1−(1−p)^x\n",
    "$$\n",
    "In this case, $x = 2$"
   ]
  },
  {
   "cell_type": "code",
   "execution_count": 1,
   "id": "160f49a2",
   "metadata": {},
   "outputs": [
    {
     "data": {
      "text/html": [
       "'The probability of player A winning 1 round is 69.4444 %'"
      ],
      "text/latex": [
       "'The probability of player A winning 1 round is 69.4444 \\%'"
      ],
      "text/markdown": [
       "'The probability of player A winning 1 round is 69.4444 %'"
      ],
      "text/plain": [
       "[1] \"The probability of player A winning 1 round is 69.4444 %\""
      ]
     },
     "metadata": {},
     "output_type": "display_data"
    }
   ],
   "source": [
    "p = 1/6\n",
    "x = 2\n",
    "\n",
    "ans = 1-(1-p)^x\n",
    "paste(\"The probability of player A winning 1 round is\", round(1-ans,6)*100,'%')"
   ]
  },
  {
   "cell_type": "markdown",
   "id": "6a6f89d5",
   "metadata": {},
   "source": [
    "### B) For each round of the game, if Player A wins according to the condition in part (a), then he gets $\\$30$ from Player B. Find the expected value of Player A’s profit. Is this game a good deal for Player A? Briefly explain your answer. (3 marks)\n",
    "\n",
    "On average, Player A has a 69\\% chance of winning a game. If he wins (which 69\\% of the time he does) he wins 20 dollars (30 - 10 for entry fee).  If he loses (which he has a 31\\% chance of doing), he lost 10 dollars. Just from this number alone he seems to be winning. But how much on average?"
   ]
  },
  {
   "cell_type": "code",
   "execution_count": 2,
   "id": "ddbc3f56",
   "metadata": {},
   "outputs": [
    {
     "name": "stdout",
     "output_type": "stream",
     "text": [
      "[1] \"$ 10.8333333333333\"\n"
     ]
    }
   ],
   "source": [
    "win = 1-ans\n",
    "lose = 1-win\n",
    "\n",
    "winnings = win*20 + lose*-10\n",
    "print(paste('$',winnings))"
   ]
  },
  {
   "cell_type": "markdown",
   "id": "4ec29448",
   "metadata": {},
   "source": [
    "his expected winnings on average is $\\$10.83$ so the game is a pretty sweet deal, although a bit shady. \n",
    "\n",
    "### C) Player A decides to play the game for 100 rounds. Find the expectation and variance of the number of games that player A wins according to the condition in part (a). (4 marks)\n",
    "\n",
    "This seems like a binomial problem since we are given a number of trials. \n",
    "\n",
    "The mean number of times he will win is $E(X)=np$:"
   ]
  },
  {
   "cell_type": "code",
   "execution_count": 3,
   "id": "dcfed343",
   "metadata": {},
   "outputs": [
    {
     "data": {
      "text/html": [
       "69.4444444444445"
      ],
      "text/latex": [
       "69.4444444444445"
      ],
      "text/markdown": [
       "69.4444444444445"
      ],
      "text/plain": [
       "[1] 69.44444"
      ]
     },
     "metadata": {},
     "output_type": "display_data"
    }
   ],
   "source": [
    "n=100\n",
    "p = win\n",
    "expectation = n*p\n",
    "expectation"
   ]
  },
  {
   "cell_type": "markdown",
   "id": "a965bcb0",
   "metadata": {},
   "source": [
    "And the variance is calculated via $np(1-p)$"
   ]
  },
  {
   "cell_type": "code",
   "execution_count": 4,
   "id": "1e634996",
   "metadata": {},
   "outputs": [
    {
     "data": {
      "text/html": [
       "21.2191358024691"
      ],
      "text/latex": [
       "21.2191358024691"
      ],
      "text/markdown": [
       "21.2191358024691"
      ],
      "text/plain": [
       "[1] 21.21914"
      ]
     },
     "metadata": {},
     "output_type": "display_data"
    }
   ],
   "source": [
    "variance = n*p*(1-p)\n",
    "variance"
   ]
  }
 ],
 "metadata": {
  "kernelspec": {
   "display_name": "R",
   "language": "R",
   "name": "ir"
  },
  "language_info": {
   "codemirror_mode": "r",
   "file_extension": ".r",
   "mimetype": "text/x-r-source",
   "name": "R",
   "pygments_lexer": "r",
   "version": "3.6.1"
  }
 },
 "nbformat": 4,
 "nbformat_minor": 5
}
