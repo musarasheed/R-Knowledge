{
 "cells": [
  {
   "cell_type": "markdown",
   "id": "21369742",
   "metadata": {},
   "source": [
    "# <center>Assignment 2</center>\n",
    "## <center>By Musa Rasheed</center>\n",
    "\n",
    "\n",
    "# Question 1\n",
    "Two gamblers decided to play a game involving rolling a *fair* die. Player $A$ agreed to pay Player $B$ $\\$10$ as an “entry fee” to play. The game consists of Player $A$ rolling a die until he rolls an $1$ for the first time. An example of a possible sequence of rolls in this game is ${(2, 6, 3, 5, 1)}$, with the number of rolls $N = 5$. Assume the rolls are independent\n",
    "\n",
    "### A) Player $A$ wins the game if it takes at least 3 rolls for the first 1 to show up. Find out the probability that player A wins one round of the game.(3 marks)\n",
    "\n",
    "This is a classic geometric distribution problem. Since this is a fair die, the probability of getting a success (getting a 1) would be 1 in 6 or $p=\\frac{1}{6}=0.1\\bar{6}$\n",
    "\n",
    "$$\n",
    "X \\text{~} Geo(0.1666...)\n",
    "$$\n",
    "\n",
    "Now we have to find the probability of winning the first round by delaying the success until 3 or more. i.e. $P(X\\geq 3)$ but it could take infinite roles to get a 1, so instead I'll find $1-P(X<3)$\n",
    "\n",
    "$$\n",
    "F(x)=P(X\\leq x)=1−(1−p)^x\n",
    "$$\n",
    "In this case, $x = 2$"
   ]
  },
  {
   "cell_type": "code",
   "execution_count": 1,
   "id": "1faef416",
   "metadata": {},
   "outputs": [
    {
     "data": {
      "text/html": [
       "'The probability of player A winning 1 round is 69.4444 %'"
      ],
      "text/latex": [
       "'The probability of player A winning 1 round is 69.4444 \\%'"
      ],
      "text/markdown": [
       "'The probability of player A winning 1 round is 69.4444 %'"
      ],
      "text/plain": [
       "[1] \"The probability of player A winning 1 round is 69.4444 %\""
      ]
     },
     "metadata": {},
     "output_type": "display_data"
    }
   ],
   "source": [
    "p = 1/6\n",
    "x = 2\n",
    "\n",
    "ans = 1-(1-p)^x\n",
    "paste(\"The probability of player A winning 1 round is\", round(1-ans,6)*100,'%')"
   ]
  },
  {
   "cell_type": "markdown",
   "id": "fb65e572",
   "metadata": {},
   "source": [
    "### B) For each round of the game, if Player A wins according to the condition in part (a), then he gets $\\$30$ from Player B. Find the expected value of Player A’s profit. Is this game a good deal for Player A? Briefly explain your answer. (3 marks)\n",
    "\n",
    "On average, Player A has a 69\\% chance of winning a game. If he wins (which 69\\% of the time he does) he wins 20 dollars (30 - 10 for entry fee).  If he loses (which he has a 31\\% chance of doing), he lost 10 dollars. Just from this number alone he seems to be winning. But how much on average?"
   ]
  },
  {
   "cell_type": "code",
   "execution_count": 2,
   "id": "2bc7cec8",
   "metadata": {},
   "outputs": [
    {
     "name": "stdout",
     "output_type": "stream",
     "text": [
      "[1] \"$ 10.8333333333333\"\n"
     ]
    }
   ],
   "source": [
    "win = 1-ans\n",
    "lose = 1-win\n",
    "\n",
    "winnings = win*20 + lose*-10\n",
    "print(paste('$',winnings))"
   ]
  },
  {
   "cell_type": "markdown",
   "id": "7f4dbf1d",
   "metadata": {},
   "source": [
    "his expected winnings on average is $\\$10.83$ so the game is a pretty sweet deal, although a bit shady. \n",
    "\n",
    "### C) Player A decides to play the game for 100 rounds. Find the expectation and variance of the number of games that player A wins according to the condition in part (a). (4 marks)\n",
    "\n",
    "This seems like a binomial problem since we are given a number of trials. \n",
    "\n",
    "The mean number of times he will win is $E(X)=np$:"
   ]
  },
  {
   "cell_type": "code",
   "execution_count": 3,
   "id": "8f0407f6",
   "metadata": {},
   "outputs": [
    {
     "data": {
      "text/html": [
       "69.4444444444445"
      ],
      "text/latex": [
       "69.4444444444445"
      ],
      "text/markdown": [
       "69.4444444444445"
      ],
      "text/plain": [
       "[1] 69.44444"
      ]
     },
     "metadata": {},
     "output_type": "display_data"
    }
   ],
   "source": [
    "n=100\n",
    "p = win\n",
    "expectation = n*p\n",
    "expectation"
   ]
  },
  {
   "cell_type": "markdown",
   "id": "c4ad7dd7",
   "metadata": {},
   "source": [
    "And the variance is calculated via $np(1-p)$"
   ]
  },
  {
   "cell_type": "code",
   "execution_count": 4,
   "id": "e65f9137",
   "metadata": {},
   "outputs": [
    {
     "data": {
      "text/html": [
       "21.2191358024691"
      ],
      "text/latex": [
       "21.2191358024691"
      ],
      "text/markdown": [
       "21.2191358024691"
      ],
      "text/plain": [
       "[1] 21.21914"
      ]
     },
     "metadata": {},
     "output_type": "display_data"
    }
   ],
   "source": [
    "variance = n*p*(1-p)\n",
    "variance"
   ]
  },
  {
   "cell_type": "markdown",
   "id": "a53780c7",
   "metadata": {},
   "source": [
    "# Question 2\n",
    "The number of patients get tested at a COVID-19 drive through test site follows a Poisson process with parameter $λ=4$ per minute. Suppose the probability that a patient is tested positive for COVID is $p=0.9$\n",
    "\n",
    "### A) Find the probability that no patients get tested in 30 seconds\n",
    "$X_1\\text{~}Poisson(4)$ where $X_1$ means 1 minute. $\\therefore X_t \\text{~}Poisson(4t)$. So for a 30 second interval (or half a minute) then $X_{0.5}\\text{~}Poisson(4*0.5)$. \n",
    "\n",
    "So what is the probability that we get 0 tests in 30 seconds?\n",
    "\n",
    "$$P(X=x)=\\frac{λ^x e^{−λ}}{x!}$$\n",
    "\n",
    "In this case, x=0"
   ]
  },
  {
   "cell_type": "code",
   "execution_count": 5,
   "id": "eacaa637",
   "metadata": {},
   "outputs": [
    {
     "data": {
      "text/html": [
       "<span style=white-space:pre-wrap>'The probability of getting 0 patients in 30 seconds is  0.1353'</span>"
      ],
      "text/latex": [
       "'The probability of getting 0 patients in 30 seconds is  0.1353'"
      ],
      "text/markdown": [
       "<span style=white-space:pre-wrap>'The probability of getting 0 patients in 30 seconds is  0.1353'</span>"
      ],
      "text/plain": [
       "[1] \"The probability of getting 0 patients in 30 seconds is  0.1353\""
      ]
     },
     "metadata": {},
     "output_type": "display_data"
    }
   ],
   "source": [
    "rate = 4 * 0.5\n",
    "x = 0\n",
    "\n",
    "P0 = rate^(x)*exp(-rate) / (factorial(x))\n",
    "\n",
    "paste(\"The probability of getting 0 patients in 30 seconds is \",round(P0,4))"
   ]
  },
  {
   "cell_type": "markdown",
   "id": "72c90efc",
   "metadata": {},
   "source": [
    "### B) Find the distribution of the number of patients that are tested positive in $l$ minutes. (5 marks)\n",
    "\n",
    "We have to make a new distribution that involves the number of people being tested and the probability of getting a positive test. Since it wants the number of positive patients in $l$ minutes (a specific period of time) it wants another poisson distribution. We could find the PDF of such a distribution like so:\n",
    "\n",
    "Consider the poisson distribution:\n",
    "$$\n",
    "X_{t}\\text{~}Poisson(4t)\n",
    "$$\n",
    "\n",
    "A patient is found to be positive 90 percent of the time, so: \n",
    "\n",
    "$$\n",
    "X_{l}\\text{~}Poisson((4*0.9)l)\n",
    "$$\n",
    "\n",
    "so the actual distribution is:\n",
    "\n",
    "$$\n",
    "X_{l}\\text{~}Poisson(3.6l)\n",
    "$$\n",
    "\n",
    "We just need to sum all the integers up to get teh cumulative denisity function: \n",
    "\n",
    "\n",
    "$$\n",
    "P(X=i)=\\frac{(3.6l)^i e^{−3.6l}}{i!}\n",
    "$$\n",
    "\n",
    "### C)  Find the probability that the first patient is tested positive shows up at least 1 minute after the test center opens. (3 marks)\n",
    "\n",
    "$$\n",
    "P(X\\geq 1) = 1 - P(X > 1) = 1 - P(X=0)\n",
    "$$\n",
    "\n",
    "Given that it is 1 minute, $l$ must be 1."
   ]
  },
  {
   "cell_type": "code",
   "execution_count": 6,
   "id": "6487005e",
   "metadata": {},
   "outputs": [
    {
     "name": "stdout",
     "output_type": "stream",
     "text": [
      "[1] \"the probability is 97.27%\"\n"
     ]
    }
   ],
   "source": [
    "rate = 3.6\n",
    "i = 0\n",
    "\n",
    "p = ((rate^i)*exp(-rate)) / factorial(i)\n",
    "print(paste(\"the probability is \",round(1-p,4)*100,'%', sep = ''))"
   ]
  },
  {
   "attachments": {
    "image.png": {
     "image/png": "[encoded data removed]"
    }
   },
   "cell_type": "markdown",
   "id": "9d50fd48",
   "metadata": {},
   "source": [
    "# Question 3\n",
    "The expected grades of two independent STAT courses (A and B, say) are 86 and 82. The respective standard deviations are 5 and 7. Let $\\bar{X}$ and $\\bar{Y}$ be the sample average grades of 38 students of course A and 32 students of course B, respectively.\n",
    "\n",
    "### A) What is the approximate distribution of $\\bar{X}$? Of $\\bar{Y}$? (3 mark)\n",
    "\n",
    "Each one of the 38 and 32 students are going to act as a random variable. Since all students from group A all come from the same normal distribution, and because the sample size is sufficiently large $(n\\geq20)$ then CLT can be applied to this scenario and the approximate distribution for group A would be: \n",
    "\n",
    "$A\\text{~} N(86, \\frac{5^2}{38})$\n",
    "\n",
    "The same logic is applied to group B: \n",
    "\n",
    "$B\\text{~} N(82, \\frac{7^2}{32})$\n",
    "\n",
    "### B) What is the approximate distribution of $\\bar{X} - \\bar{Y}$ ? Why? (3 mark)\n",
    "\n",
    "We can simply take the difference of these sums. They act approximatley like random variables who vary normally, so this is valid: \n",
    "\n",
    "$$\n",
    "\\mu = \\mu_A - \\mu_B = 86-82=4\\\\\n",
    "\\sigma^2 = \\sigma^2_A + \\sigma^2_B = \\frac{5^2}{38} + \\frac{7^2}{32}\\approx 2.1891\n",
    "$$\n",
    "\n",
    "### C) Calculate (approximately) P(|X¯ − Y¯ | < 1). (4 mark)\n",
    "\n",
    "Since the absolute value is applied to the normal distribution, it has been folded in half, making any values less than 1 invalid: \n",
    "\n",
    "![image.png](attachment:image.png)\n",
    "\n",
    "So I'll find $P(|\\bar{X} − \\bar{Y} | < 1) -P(|\\bar{X} − \\bar{Y} | < 0)$"
   ]
  },
  {
   "cell_type": "code",
   "execution_count": 7,
   "id": "1f186f42",
   "metadata": {},
   "outputs": [
    {
     "data": {
      "text/html": [
       "0.0514462847137594"
      ],
      "text/latex": [
       "0.0514462847137594"
      ],
      "text/markdown": [
       "0.0514462847137594"
      ],
      "text/plain": [
       "[1] 0.05144628"
      ]
     },
     "metadata": {},
     "output_type": "display_data"
    }
   ],
   "source": [
    "sigma = (5^2)/38 + (7^2)/32\n",
    "\n",
    "less1 = pnorm(1, mean = 4, sd = sigma)\n",
    "less0 = pnorm(0, mean = 4, sd = sigma)\n",
    "less1 - less0"
   ]
  },
  {
   "attachments": {
    "image-3.png": {
     "image/png": "[encoded data removed]"
    }
   },
   "cell_type": "markdown",
   "id": "5c101e1e",
   "metadata": {},
   "source": [
    "# Question 4\n",
    "Mechanics agree that the chain on a bicycle should be replaced after covering an average of 3000 miles. StakRide is a new bicycle manufacturing company and it wants to check if the chains it produces for bicycles have a longer life span than the existing average. The lead mechanic randomly selects 25 of the new bicycles and test runs them. The resulting sample mean and standard deviation are 3050 miles and 85 miles, respectively.\n",
    "\n",
    "### A)  What hypothesis should be tested to determine whether the life span of StakRide bicycle chains is longer than the known average? (3 marks)\n",
    "\n",
    "$H_0:μ_s≤μ_{avg}~~~~vs~~~~H_a:  μ_s>μ_{avg}$,  One tail test (Upper tail test)\n",
    "\n",
    "In this case, $\\mu_{avg}$ is the current mean, and $\\mu_{s}$ is the StakRide sampled mean. \n",
    "\n",
    "### b) Assuming that the life span of the bicycle chains is approximately normal, what test statistic would you use to test the hypotheses in part(a)? What is the value of the test statistic for this data? (3 marks)\n",
    "\n",
    "Since it is a sampled variance, I would use the T-distribution value as the test statistic. The formula being: \n",
    "![image-3.png](attachment:image-3.png)"
   ]
  },
  {
   "cell_type": "code",
   "execution_count": 8,
   "id": "5da74795",
   "metadata": {},
   "outputs": [
    {
     "data": {
      "text/html": [
       "2.94117647058824"
      ],
      "text/latex": [
       "2.94117647058824"
      ],
      "text/markdown": [
       "2.94117647058824"
      ],
      "text/plain": [
       "[1] 2.941176"
      ]
     },
     "metadata": {},
     "output_type": "display_data"
    }
   ],
   "source": [
    "n = 25\n",
    "df = n-1\n",
    "xbar = 3050\n",
    "mu0 = 3000\n",
    "s = 85\n",
    "\n",
    "t = (xbar - mu0) / (s/sqrt(n))\n",
    "t"
   ]
  },
  {
   "cell_type": "markdown",
   "id": "4dd86289",
   "metadata": {},
   "source": [
    "### c) What conclusion would you reach for a significance level of 0.05. (4 marks)\n",
    "First, let's look at the T-Table using the new signifigance level and the degrees of freedom:"
   ]
  },
  {
   "cell_type": "code",
   "execution_count": 9,
   "id": "fbec685a",
   "metadata": {},
   "outputs": [
    {
     "data": {
      "text/html": [
       "1.71088207990943"
      ],
      "text/latex": [
       "1.71088207990943"
      ],
      "text/markdown": [
       "1.71088207990943"
      ],
      "text/plain": [
       "[1] 1.710882"
      ]
     },
     "metadata": {},
     "output_type": "display_data"
    }
   ],
   "source": [
    "qt(0.05,df, lower.tail = FALSE)"
   ]
  },
  {
   "cell_type": "markdown",
   "id": "ada5de57",
   "metadata": {},
   "source": [
    "Given that this is WELL within the rejection region, we have to conclude that we can not reject the null. More specifically, we do not have enough evidence to reject the null.\n",
    "\n",
    "This does make sense, because the standard deviation (85) is more than big enough to explain a mere 50 mile difference."
   ]
  }
 ],
 "metadata": {
  "kernelspec": {
   "display_name": "R",
   "language": "R",
   "name": "ir"
  },
  "language_info": {
   "codemirror_mode": "r",
   "file_extension": ".r",
   "mimetype": "text/x-r-source",
   "name": "R",
   "pygments_lexer": "r",
   "version": "3.6.1"
  }
 },
 "nbformat": 4,
 "nbformat_minor": 5
}
