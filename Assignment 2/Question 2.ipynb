{
 "cells": [
  {
   "cell_type": "markdown",
   "id": "3883918c",
   "metadata": {},
   "source": [
    "# Question 2\n",
    "The number of patients get tested at a COVID-19 drive through test site follows a Poisson process with parameter $λ=4$ per minute. Suppose the probability that a patient is tested positive for COVID is $p=0.9$\n",
    "\n",
    "### A) Find the probability that no patients get tested in 30 seconds\n",
    "$X_1\\text{~}Poisson(4)$ where $X_1$ means 1 minute. $\\therefore X_t \\text{~}Poisson(4t)$. So for a 30 second interval (or half a minute) then $X_{0.5}\\text{~}Poisson(4*0.5)$. \n",
    "\n",
    "So what is the probability that we get 0 tests in 30 seconds?\n",
    "\n",
    "$$P(X=x)=\\frac{λ^x e^{−λ}}{x!}$$\n",
    "\n",
    "In this case, x=0"
   ]
  },
  {
   "cell_type": "code",
   "execution_count": 1,
   "id": "96da6835",
   "metadata": {},
   "outputs": [
    {
     "data": {
      "text/html": [
       "<span style=white-space:pre-wrap>'The probability of getting 0 patients in 30 seconds is  0.1353'</span>"
      ],
      "text/latex": [
       "'The probability of getting 0 patients in 30 seconds is  0.1353'"
      ],
      "text/markdown": [
       "<span style=white-space:pre-wrap>'The probability of getting 0 patients in 30 seconds is  0.1353'</span>"
      ],
      "text/plain": [
       "[1] \"The probability of getting 0 patients in 30 seconds is  0.1353\""
      ]
     },
     "metadata": {},
     "output_type": "display_data"
    }
   ],
   "source": [
    "rate = 4 * 0.5\n",
    "x = 0\n",
    "\n",
    "P0 = rate^(x)*exp(-rate) / (factorial(x))\n",
    "\n",
    "paste(\"The probability of getting 0 patients in 30 seconds is \",round(P0,4))"
   ]
  },
  {
   "cell_type": "markdown",
   "id": "ea40ea1e",
   "metadata": {},
   "source": [
    "### B) Find the distribution of the number of patients that are tested positive in $l$ minutes. (5 marks)\n",
    "\n",
    "We have to make a new distribution that involves the number of people being tested and the probability of getting a positive test. Since it wants the number of positive patients in $l$ minutes (a specific period of time) it wants another poisson distribution. We could find the PDF of such a distribution like so:\n",
    "\n",
    "Consider the poisson distribution:\n",
    "$$\n",
    "X_{t}\\text{~}Poisson(4t)\n",
    "$$\n",
    "\n",
    "A patient is found to be positive 90 percent of the time, so: \n",
    "\n",
    "$$\n",
    "X_{l}\\text{~}Poisson((4*0.9)l)\n",
    "$$\n",
    "\n",
    "so the actual distribution is:\n",
    "\n",
    "$$\n",
    "X_{l}\\text{~}Poisson(3.6l)\n",
    "$$\n",
    "\n",
    "We just need to sum all the integers up to get teh cumulative denisity function: \n",
    "\n",
    "\n",
    "$$\n",
    "P(X=i)=\\frac{(3.6l)^i e^{−3.6l}}{i!}\n",
    "$$\n",
    "\n",
    "### C)  Find the probability that the first patient is tested positive shows up at least 1 minute after the test center opens. (3 marks)\n",
    "\n",
    "$$\n",
    "P(X\\geq 1) = 1 - P(X > 1) = 1 - P(X=0)\n",
    "$$\n",
    "\n",
    "Given that it is 1 minute, $l$ must be 1."
   ]
  },
  {
   "cell_type": "code",
   "execution_count": 2,
   "id": "57296c15",
   "metadata": {},
   "outputs": [
    {
     "name": "stdout",
     "output_type": "stream",
     "text": [
      "[1] \"the probability is 97.27%\"\n"
     ]
    }
   ],
   "source": [
    "rate = 3.6\n",
    "i = 0\n",
    "\n",
    "p = ((rate^i)*exp(-rate)) / factorial(i)\n",
    "print(paste(\"the probability is \",round(1-p,4)*100,'%', sep = ''))"
   ]
  }
 ],
 "metadata": {
  "kernelspec": {
   "display_name": "R",
   "language": "R",
   "name": "ir"
  },
  "language_info": {
   "codemirror_mode": "r",
   "file_extension": ".r",
   "mimetype": "text/x-r-source",
   "name": "R",
   "pygments_lexer": "r",
   "version": "3.6.1"
  }
 },
 "nbformat": 4,
 "nbformat_minor": 5
}
